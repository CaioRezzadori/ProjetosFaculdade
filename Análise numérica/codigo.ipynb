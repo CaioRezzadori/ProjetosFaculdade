{
 "cells": [
  {
   "cell_type": "code",
   "execution_count": 1043,
   "metadata": {},
   "outputs": [],
   "source": [
    "import numpy as np\n",
    "import pandas as pd\n",
    "import sympy as sp\n",
    "import matplotlib.pyplot as plt"
   ]
  },
  {
   "cell_type": "markdown",
   "metadata": {},
   "source": [
    "# Implementações\n",
    "Etapa do código que implementa todos os métodos pedidos\n",
    "\n",
    "(Os detalhes e a lógica das implementações estão no relatório)"
   ]
  },
  {
   "cell_type": "markdown",
   "metadata": {},
   "source": [
    "### Método da Bissecção"
   ]
  },
  {
   "cell_type": "code",
   "execution_count": 1044,
   "metadata": {},
   "outputs": [
    {
     "data": {
      "text/plain": [
       "([0], [2])"
      ]
     },
     "execution_count": 1044,
     "metadata": {},
     "output_type": "execute_result"
    }
   ],
   "source": [
    "#f: Função estudada\n",
    "#a0: Valor à esquerda na reta real inicial\n",
    "#b0: Valor à direita na reta real inicial\n",
    "#n: Número de iterações máximo\n",
    "#tol: Tolerância do erro\n",
    "\n",
    "def bissec(f, a0, b0, n, tol):\n",
    "    a = [a0]\n",
    "    b = [b0]\n",
    "    i = 0\n",
    "    \n",
    "    while((i < n) & (abs(a[i] - b[i]) / 2 >tol) & (f(a[i]) * f(b[i]) != 0 )):       \n",
    "        \n",
    "        if(f(a[i]) * f((a[i] + b[i]) / 2) < 0):\n",
    "            a.append(a[i])\n",
    "            b.append((a[i] + b[i]) / 2)\n",
    "            \n",
    "        else:\n",
    "            a.append((a[i] + b[i]) / 2)\n",
    "            b.append(b[i])\n",
    "        \n",
    "        i += 1\n",
    "        \n",
    "    if(i == n):\n",
    "        print('O cálculo falhou(Bissecção)')\n",
    "        \n",
    "    return(a, b)\n",
    "\n",
    "def teste(x):\n",
    "    y = x**2 - 1\n",
    "    return y\n",
    "bissec(teste, 0, 2, 50, 100)"
   ]
  },
  {
   "cell_type": "markdown",
   "metadata": {},
   "source": [
    "### Método da Secante"
   ]
  },
  {
   "cell_type": "code",
   "execution_count": 1045,
   "metadata": {},
   "outputs": [],
   "source": [
    "#f: Função estudada\n",
    "#x0: Primeiro ponto da reta secante inicial\n",
    "#x1: Segundo ponto da reta secante inicial\n",
    "#n: Número de iterações máximo\n",
    "#tol: Tolerância do erro\n",
    "\n",
    "def sec(f, x0, x1, n, tol):\n",
    "    \n",
    "    x = [x0, x1]\n",
    "    i = 1\n",
    "    \n",
    "    while((i < n) & (abs(x[i] - x[i - 1])>tol) & (f(x[i - 1]) != 0) & (f(x[i]) != 0) & ((f(x[i]) - f(x[i - 1])) != 0)):\n",
    "        \n",
    "        x.append(x[i] - (f(x[i]) * (x[i] - x[i - 1]))/(f(x[i]) - f(x[i - 1])))\n",
    "        \n",
    "        i += 1\n",
    "        \n",
    "    if(i == n):\n",
    "        print('O cálculo falhou(Secante)')\n",
    "        \n",
    "    return(x)"
   ]
  },
  {
   "cell_type": "markdown",
   "metadata": {},
   "source": [
    "### Método de Newton"
   ]
  },
  {
   "cell_type": "code",
   "execution_count": 1046,
   "metadata": {},
   "outputs": [],
   "source": [
    "#f: Função estudada\n",
    "#df: Primeira derivada da função estudada\n",
    "#x0: Primeiro ponto da iteração\n",
    "#n: Número de iterações máximo\n",
    "#tol: Tolerância do erro\n",
    "\n",
    "def newton(f, df, x0, n, tol):\n",
    "    \n",
    "    x = [x0]\n",
    "    i = 2\n",
    "    \n",
    "    if(df(x[0]) == 0):\n",
    "        print('O cálculo falhou(Newton)')\n",
    "        return(x)\n",
    "    \n",
    "    x.append(x[0] - f(x[0]) / df(x[0]))\n",
    "\n",
    "    while((i < n) & (abs(x[i - 1] - x[i - 2]) > tol) & (f(x[i - 1]) != 0)):\n",
    "        \n",
    "        if(df(x[i - 1]) == 0):\n",
    "            print('O cálculo falhou(Newton)')\n",
    "            return(x)\n",
    "        \n",
    "        x.append(x[i - 1] - f(x[i - 1]) / df(x[i - 1]))\n",
    "        \n",
    "        i += 1\n",
    "        \n",
    "    if(i == n):\n",
    "        print('O cálculo falhou(Newton)')\n",
    "    return(x)\n",
    "\n"
   ]
  },
  {
   "cell_type": "markdown",
   "metadata": {},
   "source": [
    "### Método de Halley"
   ]
  },
  {
   "cell_type": "code",
   "execution_count": 1047,
   "metadata": {},
   "outputs": [],
   "source": [
    "#f: Função estudada\n",
    "#df: Primeira derivada da função estudada\n",
    "#d2f: Segunda derivada da função estudada\n",
    "#x0: Primeiro ponto da iteração\n",
    "#n: Número de iterações máximo\n",
    "#tol: Tolerância do erro\n",
    "\n",
    "def halley(f, df, d2f, x0, n, tol):\n",
    "    \n",
    "    x = [x0]\n",
    "    i = 2\n",
    "    \n",
    "    if((df(x[0]) ** 2 - 1/2*(f(x[0]) * d2f(x[0])))== 0):\n",
    "        print('O cálculo falhou(Halley)')\n",
    "        return(x)\n",
    "    \n",
    "    x.append(x[0] - f(x[0]) / df(x[0]))\n",
    "\n",
    "    while((i < n) & (abs(x[i - 1] - x[i - 2]) > tol) & (f(x[i - 1]) != 0)):\n",
    "        \n",
    "        if((df(x[i - 1]) ** 2 - 1/2*(f(x[i - 1]) * d2f(x[i - 1])))== 0):\n",
    "            print('O cálculo falhou(Halley)')\n",
    "            return(x)\n",
    "        \n",
    "        x.append(x[i - 1] - (f(x[i - 1]) * df(x[i - 1])) / ((df(x[i - 1])) ** 2 - 1/2*(f(x[i - 1]) * d2f(x[i - 1]))))\n",
    "        i += 1\n",
    "        \n",
    "    if(i == n):\n",
    "        print('O cálculo falhou(Halley)')\n",
    "    return(x)"
   ]
  },
  {
   "cell_type": "markdown",
   "metadata": {},
   "source": [
    "# Uso das implementações\n",
    "Etapa do código que aplica a etapa anterior às equações pedidas"
   ]
  },
  {
   "cell_type": "markdown",
   "metadata": {},
   "source": [
    "## 1ª Equação:\n",
    "$x - \\cos(x) = 0 $"
   ]
  },
  {
   "cell_type": "code",
   "execution_count": 1048,
   "metadata": {
    "scrolled": false
   },
   "outputs": [],
   "source": [
    "#Definindo a função e suas derivadas\n",
    "def f(x):\n",
    "    y = x - np.cos(x)\n",
    "    return y\n",
    "\n",
    "def df(x):\n",
    "    y = np.sin(x) + 1\n",
    "    return y\n",
    "\n",
    "def d2f(x):\n",
    "    y = np.cos(x)\n",
    "    return y"
   ]
  },
  {
   "cell_type": "code",
   "execution_count": 1049,
   "metadata": {
    "scrolled": true
   },
   "outputs": [
    {
     "data": {
      "image/png": "[encoded data removed]",
      "text/plain": [
       "<Figure size 432x288 with 1 Axes>"
      ]
     },
     "metadata": {
      "needs_background": "light"
     },
     "output_type": "display_data"
    }
   ],
   "source": [
    "#Plotando a função para auxiliar na escolha de pontos iniciais\n",
    "\n",
    "x = np.linspace(-5, 5, 100)\n",
    "plt.plot(x, f(x))\n",
    "plt.grid()\n",
    "plt.show()"
   ]
  },
  {
   "cell_type": "code",
   "execution_count": 1050,
   "metadata": {
    "scrolled": true
   },
   "outputs": [],
   "source": [
    "#Criação da tabela\n",
    "bissec_aux = zip(bissec(f, 0, 2, 100, 1e-16)[0], bissec(f, 0, 2, 100, 1e-16)[1])\n",
    "bissec_aux = (sum(i)/2 for i in bissec_aux)\n",
    "\n",
    "metodo = [ bissec_aux, sec(f, 2, 4, 100, 1e-16), newton(f, df, 2, 100, 1e-16), halley(f, df, d2f, 2, 100, 1e-16)]\n",
    "\n",
    "aux = 0\n",
    "tabela_1 = pd.DataFrame({aux: ([i] for i in metodo[0])})\n",
    "tabela_1[aux][0] = [bissec(f, -1, 2, 100, 1e-16)[0][0], bissec(f, -1, 2, 100, 1e-16)[1][0]]\n",
    "\n",
    "\n",
    "for i in metodo[1:]:\n",
    "    aux += 1\n",
    "    tabela_1 = pd.concat([tabela_1, pd.DataFrame({aux: ([j] for j in i)})], axis = 1)\n",
    "    \n",
    "tabela_1.rename(columns = {0: 'Bissecção' , 1: 'Secante', 2: 'Newton', 3: 'Halley'}, inplace = True)"
   ]
  },
  {
   "cell_type": "markdown",
   "metadata": {},
   "source": [
    "## 2ª Equação:\n",
    "$x^3 - 9x^2 + 27x - 27 = 0 $"
   ]
  },
  {
   "cell_type": "code",
   "execution_count": 1051,
   "metadata": {
    "scrolled": false
   },
   "outputs": [],
   "source": [
    "#Definindo a função e suas derivadas\n",
    "def g(x):\n",
    "    y = x**3 - 9*x**2 + 27*x - 27\n",
    "    return y\n",
    "\n",
    "def dg(x):\n",
    "    y = 3*x**2 - 18*x + 27\n",
    "    return y\n",
    "\n",
    "def d2g(x):\n",
    "    y = 6*x - 18\n",
    "    return y\n"
   ]
  },
  {
   "cell_type": "code",
   "execution_count": 1052,
   "metadata": {
    "scrolled": true
   },
   "outputs": [
    {
     "data": {
      "image/png": "[encoded data removed]",
      "text/plain": [
       "<Figure size 432x288 with 1 Axes>"
      ]
     },
     "metadata": {
      "needs_background": "light"
     },
     "output_type": "display_data"
    }
   ],
   "source": [
    "#Plotando a função para auxiliar na escolha de pontos iniciais\n",
    "x = np.linspace(-2, 8, 100)\n",
    "plt.plot(x, g(x))\n",
    "plt.grid()\n",
    "plt.show()"
   ]
  },
  {
   "cell_type": "code",
   "execution_count": 1053,
   "metadata": {},
   "outputs": [],
   "source": [
    "#Criação da tabela\n",
    "bissec_aux = zip(bissec(g, -1, 6, 100, 1e-16)[0], bissec(g, -1, 6, 100, 1e-16)[1])\n",
    "bissec_aux = (sum(i)/2 for i in bissec_aux)\n",
    "\n",
    "metodo = [ bissec_aux, sec(g, -1, 6, 100, 1e-16), newton(g, dg, 2, 100, 1e-16), halley(g, dg, d2g, 0, 100, 1e-16)]\n",
    "\n",
    "aux = 0\n",
    "tabela_2 = pd.DataFrame({aux: ([i] for i in metodo[0])})\n",
    "tabela_2[aux][0] = [bissec(g, -1, 6, 50, 1e-16)[0][0], bissec(g, -1, 6, 50, 1e-16)[1][0]]\n",
    "\n",
    "\n",
    "for i in metodo[1:]:\n",
    "    aux += 1\n",
    "    tabela_2 = pd.concat([tabela_2, pd.DataFrame({aux: ([j] for j in i)})], axis = 1)\n",
    "    \n",
    "tabela_2.rename(columns = {0: 'Bissecção' , 1: 'Secante', 2: 'Newton', 3: 'Halley'}, inplace = True)"
   ]
  },
  {
   "cell_type": "markdown",
   "metadata": {},
   "source": [
    "## 3ª Equação:\n",
    "$e^x - \\cos(x) = 0 $"
   ]
  },
  {
   "cell_type": "code",
   "execution_count": 1054,
   "metadata": {
    "scrolled": false
   },
   "outputs": [],
   "source": [
    "#Definindo a função e suas derivadas\n",
    "def h(x):\n",
    "    y = np.exp(x) - np.cos(x)\n",
    "    return y\n",
    "\n",
    "def dh(x):\n",
    "    y = np.exp(x) + np.sin(x)\n",
    "    return y\n",
    "\n",
    "def d2h(x):\n",
    "    y = np.exp(x) + np.cos(x)\n",
    "    return y"
   ]
  },
  {
   "cell_type": "code",
   "execution_count": 1055,
   "metadata": {
    "scrolled": false
   },
   "outputs": [
    {
     "data": {
      "image/png": "[encoded data removed]",
      "text/plain": [
       "<Figure size 432x288 with 1 Axes>"
      ]
     },
     "metadata": {
      "needs_background": "light"
     },
     "output_type": "display_data"
    }
   ],
   "source": [
    "#Plotando a função para auxiliar na escolha de pontos iniciais\n",
    "def h_plot(x):\n",
    "    y = np.exp(x) - np.cos(x)\n",
    "    return y\n",
    "x = np.linspace(-5, 2, 100)\n",
    "plt.plot(x, h_plot(x))\n",
    "plt.grid()\n",
    "plt.show()"
   ]
  },
  {
   "cell_type": "code",
   "execution_count": 1056,
   "metadata": {
    "scrolled": true
   },
   "outputs": [],
   "source": [
    "#Criação da tabela\n",
    "bissec_aux = zip(bissec(h, -1, 2, 100, 1e-16)[0], bissec(h, -1, 2, 100, 1e-16)[1])\n",
    "bissec_aux = (sum(i)/2 for i in bissec_aux)\n",
    "\n",
    "metodo = [ bissec_aux, sec(h, 1, 4, 100, 1e-16), newton(h, dh, 2, 100, 1e-16), halley(h, dh, d2h, 2, 100, 1e-16)]\n",
    "\n",
    "aux = 0\n",
    "tabela_3 = pd.DataFrame({aux: ([i] for i in metodo[0])})\n",
    "tabela_3[aux][0] = [bissec(h, -1, 2, 100, 1e-16)[0][0], bissec(h, -1, 2, 100, 1e-16)[1][0]]\n",
    "\n",
    "\n",
    "for i in metodo[1:]:\n",
    "    aux += 1\n",
    "    tabela_3 = pd.concat([tabela_3, pd.DataFrame({aux: ([j] for j in i)})], axis = 1)\n",
    "    \n",
    "tabela_3.rename(columns = {0: 'Bissecção' , 1: 'Secante', 2: 'Newton', 3: 'Halley'}, inplace = True)"
   ]
  },
  {
   "cell_type": "code",
   "execution_count": 1057,
   "metadata": {},
   "outputs": [
    {
     "name": "stdout",
     "output_type": "stream",
     "text": [
      "\\begin{tabular}{lllll}\n",
      "\\toprule\n",
      "{} &             Bissecção &                 Secante &                Newton &                Halley \\\\\n",
      "\\midrule\n",
      "0  &               [-1, 2] &                     [2] &                   [2] &                   [2] \\\\\n",
      "1  &                 [0.5] &                     [4] &  [0.7345361688544632] &  [0.7345361688544632] \\\\\n",
      "2  &                [0.75] &  [-0.15968742702372118] &  [0.7390897242053693] &   [0.739085122282906] \\\\\n",
      "3  &               [0.625] &    [0.6628149002247304] &  [0.7390851332198145] &  [0.7390851332151607] \\\\\n",
      "4  &              [0.6875] &    [0.7638231470880096] &  [0.7390851332151607] &                   NaN \\\\\n",
      "5  &             [0.71875] &     [0.738657163300381] &                   NaN &                   NaN \\\\\n",
      "6  &            [0.734375] &    [0.7390828251975659] &                   NaN &                   NaN \\\\\n",
      "7  &           [0.7421875] &    [0.7390851334333132] &                   NaN &                   NaN \\\\\n",
      "8  &          [0.73828125] &    [0.7390851332151606] &                   NaN &                   NaN \\\\\n",
      "9  &         [0.740234375] &    [0.7390851332151607] &                   NaN &                   NaN \\\\\n",
      "10 &        [0.7392578125] &                     NaN &                   NaN &                   NaN \\\\\n",
      "11 &       [0.73876953125] &                     NaN &                   NaN &                   NaN \\\\\n",
      "12 &      [0.739013671875] &                     NaN &                   NaN &                   NaN \\\\\n",
      "13 &     [0.7391357421875] &                     NaN &                   NaN &                   NaN \\\\\n",
      "14 &    [0.73907470703125] &                     NaN &                   NaN &                   NaN \\\\\n",
      "15 &   [0.739105224609375] &                     NaN &                   NaN &                   NaN \\\\\n",
      "16 &  [0.7390899658203125] &                     NaN &                   NaN &                   NaN \\\\\n",
      "17 &  [0.7390823364257812] &                     NaN &                   NaN &                   NaN \\\\\n",
      "18 &  [0.7390861511230469] &                     NaN &                   NaN &                   NaN \\\\\n",
      "19 &  [0.7390842437744141] &                     NaN &                   NaN &                   NaN \\\\\n",
      "20 &  [0.7390851974487305] &                     NaN &                   NaN &                   NaN \\\\\n",
      "21 &  [0.7390847206115723] &                     NaN &                   NaN &                   NaN \\\\\n",
      "22 &  [0.7390849590301514] &                     NaN &                   NaN &                   NaN \\\\\n",
      "23 &  [0.7390850782394409] &                     NaN &                   NaN &                   NaN \\\\\n",
      "24 &  [0.7390851378440857] &                     NaN &                   NaN &                   NaN \\\\\n",
      "25 &  [0.7390851080417633] &                     NaN &                   NaN &                   NaN \\\\\n",
      "26 &  [0.7390851229429245] &                     NaN &                   NaN &                   NaN \\\\\n",
      "27 &  [0.7390851303935051] &                     NaN &                   NaN &                   NaN \\\\\n",
      "28 &  [0.7390851341187954] &                     NaN &                   NaN &                   NaN \\\\\n",
      "29 &  [0.7390851322561502] &                     NaN &                   NaN &                   NaN \\\\\n",
      "30 &  [0.7390851331874728] &                     NaN &                   NaN &                   NaN \\\\\n",
      "31 &  [0.7390851336531341] &                     NaN &                   NaN &                   NaN \\\\\n",
      "32 &  [0.7390851334203035] &                     NaN &                   NaN &                   NaN \\\\\n",
      "33 &  [0.7390851333038881] &                     NaN &                   NaN &                   NaN \\\\\n",
      "34 &  [0.7390851332456805] &                     NaN &                   NaN &                   NaN \\\\\n",
      "35 &  [0.7390851332165767] &                     NaN &                   NaN &                   NaN \\\\\n",
      "36 &  [0.7390851332020247] &                     NaN &                   NaN &                   NaN \\\\\n",
      "37 &  [0.7390851332093007] &                     NaN &                   NaN &                   NaN \\\\\n",
      "38 &  [0.7390851332129387] &                     NaN &                   NaN &                   NaN \\\\\n",
      "39 &  [0.7390851332147577] &                     NaN &                   NaN &                   NaN \\\\\n",
      "40 &  [0.7390851332156672] &                     NaN &                   NaN &                   NaN \\\\\n",
      "41 &  [0.7390851332152124] &                     NaN &                   NaN &                   NaN \\\\\n",
      "42 &   [0.739085133214985] &                     NaN &                   NaN &                   NaN \\\\\n",
      "43 &  [0.7390851332150987] &                     NaN &                   NaN &                   NaN \\\\\n",
      "44 &  [0.7390851332151556] &                     NaN &                   NaN &                   NaN \\\\\n",
      "45 &   [0.739085133215184] &                     NaN &                   NaN &                   NaN \\\\\n",
      "46 &  [0.7390851332151698] &                     NaN &                   NaN &                   NaN \\\\\n",
      "47 &  [0.7390851332151627] &                     NaN &                   NaN &                   NaN \\\\\n",
      "48 &  [0.7390851332151591] &                     NaN &                   NaN &                   NaN \\\\\n",
      "49 &  [0.7390851332151609] &                     NaN &                   NaN &                   NaN \\\\\n",
      "50 &    [0.73908513321516] &                     NaN &                   NaN &                   NaN \\\\\n",
      "51 &  [0.7390851332151605] &                     NaN &                   NaN &                   NaN \\\\\n",
      "52 &  [0.7390851332151607] &                     NaN &                   NaN &                   NaN \\\\\n",
      "53 &  [0.7390851332151608] &                     NaN &                   NaN &                   NaN \\\\\n",
      "\\bottomrule\n",
      "\\end{tabular}\n",
      "\n"
     ]
    }
   ],
   "source": [
    "print(tabela_1.to_latex())"
   ]
  },
  {
   "cell_type": "code",
   "execution_count": 1058,
   "metadata": {},
   "outputs": [
    {
     "name": "stdout",
     "output_type": "stream",
     "text": [
      "\\begin{tabular}{lllll}\n",
      "\\toprule\n",
      "{} &             Bissecção &               Secante &                Newton &                Halley \\\\\n",
      "\\midrule\n",
      "0  &               [-1, 6] &                  [-1] &                   [2] &                   [0] \\\\\n",
      "1  &                [4.25] &                   [6] &  [2.3333333333333335] &                 [1.0] \\\\\n",
      "2  &               [3.375] &   [3.923076923076923] &  [2.5555555555555562] &                 [2.0] \\\\\n",
      "3  &              [2.9375] &  [3.8607594936708853] &  [2.7037037037037006] &                 [2.5] \\\\\n",
      "4  &             [3.15625] &  [3.5936449643236306] &  [2.8024691358024763] &                [2.75] \\\\\n",
      "5  &            [3.046875] &   [3.463240354700395] &    [2.86831275720167] &               [2.875] \\\\\n",
      "6  &           [2.9921875] &   [3.345180069226499] &  [2.9122085048011885] &              [2.9375] \\\\\n",
      "7  &          [3.01953125] &  [3.2618647588478917] &   [2.941472336534064] &             [2.96875] \\\\\n",
      "8  &         [3.005859375] &  [3.1972978505748495] &  [2.9609815576892418] &            [2.984375] \\\\\n",
      "9  &        [2.9990234375] &   [3.149045371555185] &  [2.9739877051270898] &           [2.9921875] \\\\\n",
      "10 &       [3.00244140625] &   [3.112479157590808] &  [2.9826584700817413] &          [2.99609375] \\\\\n",
      "11 &      [3.000732421875] &  [3.0849172578452455] &  [2.9884389800442834] &         [2.998046875] \\\\\n",
      "12 &     [2.9998779296875] &   [3.064099453131603] &  [2.9922926533930707] &        [2.9990234375] \\\\\n",
      "13 &    [3.00030517578125] &  [3.0483880264555703] &   [2.994861768939271] &       [2.99951171875] \\\\\n",
      "14 &   [3.000091552734375] &  [3.0365268136567183] &  [2.9965745126702417] &      [2.999755859375] \\\\\n",
      "15 &  [2.9999847412109375] &   [3.027573341732386] &  [2.9977163415697174] &     [2.9998779296875] \\\\\n",
      "16 &  [3.0000381469726562] &  [3.0208144807261923] &   [2.998477560695579] &    [2.99993896484375] \\\\\n",
      "17 &                   NaN &  [3.0157123921969085] &  [2.9989850401062257] &   [2.999969482421875] \\\\\n",
      "18 &                   NaN &  [3.0118609323489673] &   [2.999323358453619] &  [2.9999847412109375] \\\\\n",
      "19 &                   NaN &  [3.0089535533767098] &  [2.9995489060054785] &                   NaN \\\\\n",
      "20 &                   NaN &   [3.006758837376582] &   [2.999699265251814] &                   NaN \\\\\n",
      "21 &                   NaN &  [3.0051020955656096] &  [2.9997995127752053] &                   NaN \\\\\n",
      "22 &                   NaN &  [3.0038514579308484] &   [2.999866450950023] &                   NaN \\\\\n",
      "23 &                   NaN &   [3.002907379713535] &   [2.999911070644811] &                   NaN \\\\\n",
      "24 &                   NaN &  [3.0021947155542485] &   [2.999940420415613] &                   NaN \\\\\n",
      "25 &                   NaN &   [3.001656742012891] &   [2.999960437236415] &                   NaN \\\\\n",
      "26 &                   NaN &  [3.0012506395999283] &  [2.9999755692175545] &                   NaN \\\\\n",
      "27 &                   NaN &  [3.0009440759240538] &  [2.9999874738141177] &                   NaN \\\\\n",
      "28 &                   NaN &   [3.000712662646149] &   [3.000017663404747] &                   NaN \\\\\n",
      "29 &                   NaN &   [3.000537970158045] &  [3.0000100720042853] &                   NaN \\\\\n",
      "30 &                   NaN &  [3.0004061173469236] &                   NaN &                   NaN \\\\\n",
      "31 &                   NaN &  [3.0003065703226843] &                   NaN &                   NaN \\\\\n",
      "32 &                   NaN &  [3.0002314467865214] &                   NaN &                   NaN \\\\\n",
      "33 &                   NaN &   [3.000174730142769] &                   NaN &                   NaN \\\\\n",
      "34 &                   NaN &   [3.000131835682086] &                   NaN &                   NaN \\\\\n",
      "35 &                   NaN &   [3.000099288128781] &                   NaN &                   NaN \\\\\n",
      "36 &                   NaN &   [3.000075139944071] &                   NaN &                   NaN \\\\\n",
      "37 &                   NaN &   [3.000056564417371] &                   NaN &                   NaN \\\\\n",
      "38 &                   NaN &   [3.000044180732904] &                   NaN &                   NaN \\\\\n",
      "39 &                   NaN &  [3.0000317970484374] &                   NaN &                   NaN \\\\\n",
      "40 &                   NaN &  [3.0000194133639706] &                   NaN &                   NaN \\\\\n",
      "41 &                   NaN &  [3.0000169366270772] &                   NaN &                   NaN \\\\\n",
      "42 &                   NaN &   [3.000021890100864] &                   NaN &                   NaN \\\\\n",
      "43 &                   NaN &  [3.0000268435746507] &                   NaN &                   NaN \\\\\n",
      "\\bottomrule\n",
      "\\end{tabular}\n",
      "\n"
     ]
    }
   ],
   "source": [
    "print(tabela_2.to_latex())"
   ]
  },
  {
   "cell_type": "code",
   "execution_count": 1059,
   "metadata": {
    "scrolled": false
   },
   "outputs": [
    {
     "name": "stdout",
     "output_type": "stream",
     "text": [
      "\\begin{tabular}{lllll}\n",
      "\\toprule\n",
      "{} &                  Bissecção &                   Secante &                   Newton &                    Halley \\\\\n",
      "\\midrule\n",
      "0  &                    [-1, 2] &                       [1] &                      [2] &                       [2] \\\\\n",
      "1  &                    [-0.25] &                       [4] &     [1.0594275224293475] &      [1.0594275224293475] \\\\\n",
      "2  &                    [0.125] &      [0.8768895984827112] &      [0.421823404993508] &     [0.16601696200794347] \\\\\n",
      "3  &                  [-0.0625] &      [0.7738990336585623] &    [0.10520322868058068] &    [0.002621834111628807] \\\\\n",
      "4  &                  [0.03125] &      [0.2924948669176779] &    [0.00942171053193791] &  [1.4924651341608614e-08] \\\\\n",
      "5  &                [-0.015625] &     [0.12064619698301429] &  [8.739668434868189e-05] &  [-6.131574890478334e-17] \\\\\n",
      "6  &                [0.0078125] &    [0.026278803867898312] &  [7.637068073467336e-09] &   [4.970655355773234e-17] \\\\\n",
      "7  &              [-0.00390625] &    [0.002824473528784517] &  [1.010777617761133e-16] &                       NaN \\\\\n",
      "8  &              [0.001953125] &    [7.24655071231697e-05] &                      NaN &                       NaN \\\\\n",
      "9  &            [-0.0009765625] &  [2.0418394235941818e-07] &                      NaN &                       NaN \\\\\n",
      "10 &            [0.00048828125] &    [1.47952822207517e-11] &                      NaN &                       NaN \\\\\n",
      "11 &          [-0.000244140625] &   [9.135294519214567e-18] &                      NaN &                       NaN \\\\\n",
      "12 &          [0.0001220703125] &                       NaN &                      NaN &                       NaN \\\\\n",
      "13 &         [-6.103515625e-05] &                       NaN &                      NaN &                       NaN \\\\\n",
      "14 &         [3.0517578125e-05] &                       NaN &                      NaN &                       NaN \\\\\n",
      "15 &       [-1.52587890625e-05] &                       NaN &                      NaN &                       NaN \\\\\n",
      "16 &        [7.62939453125e-06] &                       NaN &                      NaN &                       NaN \\\\\n",
      "17 &      [-3.814697265625e-06] &                       NaN &                      NaN &                       NaN \\\\\n",
      "18 &      [1.9073486328125e-06] &                       NaN &                      NaN &                       NaN \\\\\n",
      "19 &     [-9.5367431640625e-07] &                       NaN &                      NaN &                       NaN \\\\\n",
      "20 &     [4.76837158203125e-07] &                       NaN &                      NaN &                       NaN \\\\\n",
      "21 &   [-2.384185791015625e-07] &                       NaN &                      NaN &                       NaN \\\\\n",
      "22 &   [1.1920928955078125e-07] &                       NaN &                      NaN &                       NaN \\\\\n",
      "23 &   [-5.960464477539063e-08] &                       NaN &                      NaN &                       NaN \\\\\n",
      "24 &   [2.9802322387695312e-08] &                       NaN &                      NaN &                       NaN \\\\\n",
      "25 &  [-1.4901161193847656e-08] &                       NaN &                      NaN &                       NaN \\\\\n",
      "26 &    [7.450580596923828e-09] &                       NaN &                      NaN &                       NaN \\\\\n",
      "27 &   [-3.725290298461914e-09] &                       NaN &                      NaN &                       NaN \\\\\n",
      "28 &    [1.862645149230957e-09] &                       NaN &                      NaN &                       NaN \\\\\n",
      "29 &   [-9.313225746154785e-10] &                       NaN &                      NaN &                       NaN \\\\\n",
      "30 &    [4.656612873077393e-10] &                       NaN &                      NaN &                       NaN \\\\\n",
      "31 &  [-2.3283064365386963e-10] &                       NaN &                      NaN &                       NaN \\\\\n",
      "32 &   [1.1641532182693481e-10] &                       NaN &                      NaN &                       NaN \\\\\n",
      "33 &   [-5.820766091346741e-11] &                       NaN &                      NaN &                       NaN \\\\\n",
      "34 &   [2.9103830456733704e-11] &                       NaN &                      NaN &                       NaN \\\\\n",
      "35 &  [-1.4551915228366852e-11] &                       NaN &                      NaN &                       NaN \\\\\n",
      "36 &    [7.275957614183426e-12] &                       NaN &                      NaN &                       NaN \\\\\n",
      "37 &   [-3.637978807091713e-12] &                       NaN &                      NaN &                       NaN \\\\\n",
      "38 &   [1.8189894035458565e-12] &                       NaN &                      NaN &                       NaN \\\\\n",
      "39 &   [-9.094947017729282e-13] &                       NaN &                      NaN &                       NaN \\\\\n",
      "40 &    [4.547473508864641e-13] &                       NaN &                      NaN &                       NaN \\\\\n",
      "41 &  [-2.2737367544323206e-13] &                       NaN &                      NaN &                       NaN \\\\\n",
      "42 &   [1.1368683772161603e-13] &                       NaN &                      NaN &                       NaN \\\\\n",
      "43 &   [-5.684341886080802e-14] &                       NaN &                      NaN &                       NaN \\\\\n",
      "44 &    [2.842170943040401e-14] &                       NaN &                      NaN &                       NaN \\\\\n",
      "45 &  [-1.4210854715202004e-14] &                       NaN &                      NaN &                       NaN \\\\\n",
      "46 &    [7.105427357601002e-15] &                       NaN &                      NaN &                       NaN \\\\\n",
      "47 &   [-3.552713678800501e-15] &                       NaN &                      NaN &                       NaN \\\\\n",
      "48 &   [1.7763568394002505e-15] &                       NaN &                      NaN &                       NaN \\\\\n",
      "49 &   [-8.881784197001252e-16] &                       NaN &                      NaN &                       NaN \\\\\n",
      "50 &    [4.440892098500626e-16] &                       NaN &                      NaN &                       NaN \\\\\n",
      "51 &   [-2.220446049250313e-16] &                       NaN &                      NaN &                       NaN \\\\\n",
      "52 &   [1.1102230246251565e-16] &                       NaN &                      NaN &                       NaN \\\\\n",
      "53 &   [2.7755575615628914e-16] &                       NaN &                      NaN &                       NaN \\\\\n",
      "\\bottomrule\n",
      "\\end{tabular}\n",
      "\n"
     ]
    }
   ],
   "source": [
    "print(tabela_3.to_latex())"
   ]
  },
  {
   "cell_type": "markdown",
   "metadata": {},
   "source": [
    "## Estimativa da ordem de convergência"
   ]
  },
  {
   "cell_type": "code",
   "execution_count": 1060,
   "metadata": {},
   "outputs": [],
   "source": [
    "#Criando a função para a estimativa\n",
    "def ordem(x, raiz):\n",
    "    aux = []\n",
    "    \n",
    "    for i in range(2, len(x)):\n",
    "        if ((abs(x[i - 1] - raiz) == 0) | (abs(x[i - 2] - raiz) == 0) | (np.log(abs(x[i - 1] - raiz)/abs(x[i - 2] - raiz)) == 0)):\n",
    "            \n",
    "            return(aux)\n",
    "        \n",
    "        aux.append(np.log(abs(x[i] - raiz)/abs(x[i - 1] - raiz))/ \\\n",
    "                np.log(abs(x[i - 1] - raiz)/abs(x[i - 2] - raiz)))\n",
    "    return(aux)"
   ]
  },
  {
   "cell_type": "markdown",
   "metadata": {},
   "source": [
    "## 1ª Equação:"
   ]
  },
  {
   "cell_type": "code",
   "execution_count": 1061,
   "metadata": {
    "scrolled": false
   },
   "outputs": [
    {
     "name": "stderr",
     "output_type": "stream",
     "text": [
      "<ipython-input-1060-a590102b4230>:10: RuntimeWarning: divide by zero encountered in log\n",
      "  aux.append(np.log(abs(x[i] - raiz)/abs(x[i - 1] - raiz))/ \\\n",
      "<ipython-input-1060-a590102b4230>:6: RuntimeWarning: divide by zero encountered in log\n",
      "  if ((abs(x[i - 1] - raiz) == 0) | (abs(x[i - 2] - raiz) == 0) | (np.log(abs(x[i - 1] - raiz)/abs(x[i - 2] - raiz)) == 0)):\n"
     ]
    }
   ],
   "source": [
    "#A raiz da primeira equação é 0.7390851332151607. Ela foi tomada como base por meio da útlima iteração pelo método de Halley\n",
    "\n",
    "bissec_aux = zip(bissec(f, 0, 2, 100, 1e-16)[0], bissec(f, 0, 2, 100, 1e-16)[1])\n",
    "bissec_aux = (sum(i)/2 for i in bissec_aux)\n",
    "\n",
    "bissec_aux = list(bissec_aux)\n",
    "bissec_aux\n",
    "lista_ordem = [ordem(bissec_aux, 0.7390851332151607), ordem(sec(f, 2, 4, 100, 1e-16), 0.7390851332151607), ordem(newton(f, df, 2, 100, 1e-16), 0.7390851332151607), ordem(halley(f, df, d2f, 2, 100, 1e-16), 0.7390851332151607)]\n",
    "\n",
    "aux = 0\n",
    "tab_ordem_1 = pd.DataFrame({aux:([i] for i in lista_ordem[0])})\n",
    "\n",
    "for i in lista_ordem[1:]:\n",
    "    #print(tab_ordem_1)\n",
    "    aux += 1\n",
    "    tab_ordem_1 = pd.concat([tab_ordem_1, pd.DataFrame({aux: ([j] for j in i)})], axis = 1)\n",
    "    \n",
    "tab_ordem_1.rename(columns = {0: 'Bissecção' , 1: 'Secante', 2: 'Newton', 3: 'Halley'}, inplace = True)"
   ]
  },
  {
   "cell_type": "markdown",
   "metadata": {},
   "source": [
    "## 2ª Equação:"
   ]
  },
  {
   "cell_type": "code",
   "execution_count": 1062,
   "metadata": {
    "scrolled": false
   },
   "outputs": [],
   "source": [
    "#A raiz da segunda equação é 3\n",
    "bissec_aux = zip(bissec(g, -1, 6, 100, 1e-16)[0], bissec(g, -1, 6, 100, 1e-16)[1])\n",
    "bissec_aux = (sum(i)/2 for i in bissec_aux)\n",
    "\n",
    "bissec_aux = list(bissec_aux)\n",
    "bissec_aux\n",
    "lista_ordem = [ordem(bissec_aux, 3), ordem(sec(g, -1, 6, 100, 1e-16), 3), ordem(newton(g, dg, 2, 100, 1e-16), 3), ordem(halley(g, dg, d2g, 0, 100, 1e-16), 3)]\n",
    "\n",
    "aux = 0\n",
    "tab_ordem_2 = pd.DataFrame({aux:([i] for i in lista_ordem[0])})\n",
    "\n",
    "for i in lista_ordem[1:]:\n",
    "    #print(tab_ordem_1)\n",
    "    aux += 1\n",
    "    tab_ordem_2 = pd.concat([tab_ordem_2, pd.DataFrame({aux: ([j] for j in i)})], axis = 1)\n",
    "    \n",
    "tab_ordem_2.rename(columns = {0: 'Bissecção' , 1: 'Secante', 2: 'Newton', 3: 'Halley'}, inplace = True)"
   ]
  },
  {
   "cell_type": "markdown",
   "metadata": {},
   "source": [
    "## 3ª Equação"
   ]
  },
  {
   "cell_type": "code",
   "execution_count": 1063,
   "metadata": {
    "scrolled": false
   },
   "outputs": [],
   "source": [
    "#A maior raiz da terceira equação é 0\n",
    "bissec_aux = zip(bissec(h, -1, 2, 100, 1e-16)[0], bissec(h, -1, 2, 100, 1e-16)[1])\n",
    "bissec_aux = (sum(i)/2 for i in bissec_aux)\n",
    "\n",
    "bissec_aux = list(bissec_aux)\n",
    "bissec_aux\n",
    "lista_ordem = [ordem(bissec_aux, 0), ordem(sec(h, 1, 4, 100, 1e-16), 0), ordem(newton(h, dh, 2, 100, 1e-16), 0), ordem(halley(h, dh, d2h, 2, 100, 1e-16), 0)]\n",
    "\n",
    "aux = 0\n",
    "tab_ordem_3 = pd.DataFrame({aux:([i] for i in lista_ordem[0])})\n",
    "\n",
    "for i in lista_ordem[1:]:\n",
    "    #print(tab_ordem_1)\n",
    "    aux += 1\n",
    "    tab_ordem_3 = pd.concat([tab_ordem_3, pd.DataFrame({aux: ([j] for j in i)})], axis = 1)\n",
    "    \n",
    "tab_ordem_3.rename(columns = {0: 'Bissecção' , 1: 'Secante', 2: 'Newton', 3: 'Halley'}, inplace = True)"
   ]
  },
  {
   "cell_type": "code",
   "execution_count": 1064,
   "metadata": {},
   "outputs": [
    {
     "name": "stdout",
     "output_type": "stream",
     "text": [
      "\\begin{tabular}{lllll}\n",
      "\\toprule\n",
      "{} &               Bissecção &                Secante &                Newton &               Halley \\\\\n",
      "\\midrule\n",
      "0  &    [35.327179654055485] &  [-1.3563180509063164] &  [1.2264774027320344] &  [2.300337470312147] \\\\\n",
      "1  &   [-0.7603018751155418] &   [1.9140870666310255] &  [2.0006953416353888] &                [inf] \\\\\n",
      "2  &  [-0.33820732692475886] &   [0.4564479128367176] &                 [inf] &                  NaN \\\\\n",
      "3  &    [1.1728234984235215] &   [3.6032448680934306] &                   NaN &                  NaN \\\\\n",
      "4  &    [1.5712320797383341] &    [1.287307857851756] &                   NaN &                  NaN \\\\\n",
      "5  &    [0.2854787463509074] &   [1.7743253855383951] &                   NaN &                  NaN \\\\\n",
      "6  &     [3.234256231735667] &   [1.5637676499310302] &                   NaN &                  NaN \\\\\n",
      "7  &    [-0.264652002004059] &                  [inf] &                   NaN &                  NaN \\\\\n",
      "8  &    [-5.303307576000234] &                    NaN &                   NaN &                  NaN \\\\\n",
      "9  &   [-0.3181591727901333] &                    NaN &                   NaN &                  NaN \\\\\n",
      "10 &   [-2.4630388643675154] &                    NaN &                   NaN &                  NaN \\\\\n",
      "11 &   [0.23229103278397142] &                    NaN &                   NaN &                  NaN \\\\\n",
      "12 &     [4.578787241223198] &                    NaN &                   NaN &                  NaN \\\\\n",
      "13 &  [-0.41522198844061814] &                    NaN &                   NaN &                  NaN \\\\\n",
      "14 &   [-2.1722078304163612] &                    NaN &                   NaN &                  NaN \\\\\n",
      "15 &   [0.38382435525222797] &                    NaN &                   NaN &                  NaN \\\\\n",
      "16 &     [1.848048235014479] &                    NaN &                   NaN &                  NaN \\\\\n",
      "17 &   [0.13348054811292917] &                    NaN &                   NaN &                  NaN \\\\\n",
      "18 &     [19.47988674804202] &                    NaN &                   NaN &                  NaN \\\\\n",
      "19 &   [-0.7077298198276057] &                    NaN &                   NaN &                  NaN \\\\\n",
      "20 &   [-0.4636490435180523] &                    NaN &                   NaN &                  NaN \\\\\n",
      "21 &    [1.3372767199581295] &                    NaN &                   NaN &                  NaN \\\\\n",
      "22 &    [2.1457772843615674] &                    NaN &                   NaN &                  NaN \\\\\n",
      "23 &   [-0.6843472562682519] &                    NaN &                   NaN &                  NaN \\\\\n",
      "24 &   [-0.5292958740067045] &                    NaN &                   NaN &                  NaN \\\\\n",
      "25 &    [1.4415473619792851] &                    NaN &                   NaN &                  NaN \\\\\n",
      "26 &     [0.881228550086172] &                    NaN &                   NaN &                  NaN \\\\\n",
      "27 &  [-0.05223425507528485] &                    NaN &                   NaN &                  NaN \\\\\n",
      "28 &    [-59.60159215761488] &                    NaN &                   NaN &                  NaN \\\\\n",
      "29 &   [-0.7789100175189784] &                    NaN &                   NaN &                  NaN \\\\\n",
      "30 &   [-0.2746855459237045] &                    NaN &                   NaN &                  NaN \\\\\n",
      "31 &    [1.1050623790129144] &                    NaN &                   NaN &                  NaN \\\\\n",
      "32 &    [1.2732929256701908] &                    NaN &                   NaN &                  NaN \\\\\n",
      "33 &    [2.8772241521717814] &                    NaN &                   NaN &                  NaN \\\\\n",
      "34 &    [-0.725448931012233] &                    NaN &                   NaN &                  NaN \\\\\n",
      "35 &   [-0.3623768663094118] &                    NaN &                   NaN &                  NaN \\\\\n",
      "36 &    [1.2013520284906842] &                    NaN &                   NaN &                  NaN \\\\\n",
      "37 &    [1.7604745172383436] &                    NaN &                   NaN &                  NaN \\\\\n",
      "38 &  [-0.13386162050564324] &                    NaN &                   NaN &                  NaN \\\\\n",
      "39 &    [-9.982698054911745] &                    NaN &                   NaN &                  NaN \\\\\n",
      "40 &   [-0.5357660234813021] &                    NaN &                   NaN &                  NaN \\\\\n",
      "41 &    [-0.852589956419112] &                    NaN &                   NaN &                  NaN \\\\\n",
      "42 &    [2.3949243350020297] &                    NaN &                   NaN &                  NaN \\\\\n",
      "43 &   [-0.6084286759770127] &                    NaN &                   NaN &                  NaN \\\\\n",
      "44 &   [-0.6193014531279519] &                    NaN &                   NaN &                  NaN \\\\\n",
      "45 &    [1.6124695682084462] &                    NaN &                   NaN &                  NaN \\\\\n",
      "46 &   [0.16573669956458134] &                    NaN &                   NaN &                  NaN \\\\\n",
      "47 &     [7.742930488974065] &                    NaN &                   NaN &                  NaN \\\\\n",
      "48 &   [-0.5645750340535797] &                    NaN &                   NaN &                  NaN \\\\\n",
      "49 &                  [-1.0] &                    NaN &                   NaN &                  NaN \\\\\n",
      "50 &                   [inf] &                    NaN &                   NaN &                  NaN \\\\\n",
      "\\bottomrule\n",
      "\\end{tabular}\n",
      "\n"
     ]
    }
   ],
   "source": [
    "print(tab_ordem_1.to_latex())"
   ]
  },
  {
   "cell_type": "code",
   "execution_count": 1065,
   "metadata": {},
   "outputs": [
    {
     "name": "stdout",
     "output_type": "stream",
     "text": [
      "\\begin{tabular}{lllll}\n",
      "\\toprule\n",
      "{} &              Bissecção &                Secante &                 Newton &                Halley \\\\\n",
      "\\midrule\n",
      "0  &  [-1.3139637480162702] &    [4.097074893463176] &   [1.0000000000000029] &  [1.7095112913514545] \\\\\n",
      "1  &   [1.4882059318866432] &  [0.05930271354580376] &   [0.9999999999999671] &                 [1.0] \\\\\n",
      "2  &  [-0.5113915944693856] &    [5.315412069697789] &    [1.000000000000144] &                 [1.0] \\\\\n",
      "3  &  [-1.3139637480162702] &   [0.6675986522374209] &   [1.0000000000002403] &                 [1.0] \\\\\n",
      "4  &   [1.4882059318866432] &   [1.1860396986384392] &   [1.0000000000017615] &                 [1.0] \\\\\n",
      "5  &  [-0.5113915944693856] &   [0.9390108220794767] &   [0.9999999999952759] &                 [1.0] \\\\\n",
      "6  &  [-1.3139637480162702] &   [1.0248902229487014] &   [0.9999999999941304] &                 [1.0] \\\\\n",
      "7  &   [1.4882059318866432] &    [0.990640112599392] &   [1.0000000000965197] &                 [1.0] \\\\\n",
      "8  &  [-0.5113915944693856] &    [1.003633538908858] &   [0.9999999994874086] &                 [1.0] \\\\\n",
      "9  &  [-1.3139637480162702] &   [0.9986065412489565] &   [0.9999999982462879] &                 [1.0] \\\\\n",
      "10 &   [1.4882059318866432] &   [1.0005369070910046] &   [1.0000000118469037] &                 [1.0] \\\\\n",
      "11 &  [-0.5113915944693856] &   [0.9997935002229845] &   [0.9999999953987793] &                 [1.0] \\\\\n",
      "12 &  [-1.3139637480162702] &    [1.000079477123442] &    [1.000000026655818] &                 [1.0] \\\\\n",
      "13 &   [1.4882059318866432] &    [0.999969419910599] &   [0.9999997410019924] &                 [1.0] \\\\\n",
      "14 &  [-0.5113915944693856] &   [1.0000117659117715] &   [0.9999996588291027] &                 [1.0] \\\\\n",
      "15 &                    NaN &   [0.9999954724932858] &   [0.9999996997527747] &                 [1.0] \\\\\n",
      "16 &                    NaN &    [1.000001739748194] &   [0.9999949741261712] &                 [1.0] \\\\\n",
      "17 &                    NaN &   [0.9999993421572103] &   [1.0000079160764022] &                   NaN \\\\\n",
      "18 &                    NaN &   [1.0000002301537687] &   [0.9999535414661543] &                   NaN \\\\\n",
      "19 &                    NaN &   [0.9999998212106413] &   [1.0000765145415496] &                   NaN \\\\\n",
      "20 &                    NaN &   [1.0000001835054575] &   [1.0019818309550608] &                   NaN \\\\\n",
      "21 &                    NaN &   [0.9999997720402946] &   [1.0008487491195979] &                   NaN \\\\\n",
      "22 &                    NaN &   [1.0000009134887045] &   [0.9850053753690621] &                   NaN \\\\\n",
      "23 &                    NaN &   [0.9999987044598128] &    [1.022208831230006] &                   NaN \\\\\n",
      "24 &                    NaN &   [0.9999947068427346] &   [1.1773704823222702] &                   NaN \\\\\n",
      "25 &                    NaN &   [1.0000208316255499] &   [1.3858111834016211] &                   NaN \\\\\n",
      "26 &                    NaN &   [0.9999809430176692] &  [-0.5144641105832243] &                   NaN \\\\\n",
      "27 &                    NaN &   [1.0000236186879772] &   [-1.634501956472951] &                   NaN \\\\\n",
      "28 &                    NaN &   [0.9998430666652383] &                    NaN &                   NaN \\\\\n",
      "29 &                    NaN &   [1.0001210772122555] &                    NaN &                   NaN \\\\\n",
      "30 &                    NaN &   [0.9996522013799529] &                    NaN &                   NaN \\\\\n",
      "31 &                    NaN &   [1.0000357785244494] &                    NaN &                   NaN \\\\\n",
      "32 &                    NaN &    [1.002060377895062] &                    NaN &                   NaN \\\\\n",
      "33 &                    NaN &   [1.0065458304866084] &                    NaN &                   NaN \\\\\n",
      "34 &                    NaN &   [0.9828710351782418] &                    NaN &                   NaN \\\\\n",
      "35 &                    NaN &   [1.0190131226480243] &                    NaN &                   NaN \\\\\n",
      "36 &                    NaN &   [0.8701251480418939] &                    NaN &                   NaN \\\\\n",
      "37 &                    NaN &    [1.331148749165381] &                    NaN &                   NaN \\\\\n",
      "38 &                    NaN &    [1.500117960089156] &                    NaN &                   NaN \\\\\n",
      "39 &                    NaN &  [0.27661101876424354] &                    NaN &                   NaN \\\\\n",
      "40 &                    NaN &  [-1.8797631066103864] &                    NaN &                   NaN \\\\\n",
      "41 &                    NaN &   [0.7951168539264405] &                    NaN &                   NaN \\\\\n",
      "\\bottomrule\n",
      "\\end{tabular}\n",
      "\n"
     ]
    }
   ],
   "source": [
    "print(tab_ordem_2.to_latex())"
   ]
  },
  {
   "cell_type": "code",
   "execution_count": 1066,
   "metadata": {},
   "outputs": [
    {
     "name": "stdout",
     "output_type": "stream",
     "text": [
      "\\begin{tabular}{lllll}\n",
      "\\toprule\n",
      "{} &              Bissecção &                Secante &                Newton &                  Halley \\\\\n",
      "\\midrule\n",
      "0  &                  [1.0] &  [-1.0947664389636296] &  [1.4492766979064213] &    [2.9168084166528017] \\\\\n",
      "1  &                  [1.0] &  [0.08232343099336736] &  [1.5079780287239986] &    [2.2381726924800276] \\\\\n",
      "2  &                  [1.0] &    [7.787712351225309] &  [1.7375170345448028] &    [2.9112203454047614] \\\\\n",
      "3  &                  [1.0] &   [0.9101644757107819] &   [1.939723385790074] &    [1.5990105313304377] \\\\\n",
      "4  &                  [1.0] &    [1.721009113903347] &   [1.996703143266221] &  [0.010869875329842718] \\\\\n",
      "5  &                  [1.0] &   [1.4634481253016827] &  [1.9411453676828414] &                     NaN \\\\\n",
      "6  &                  [1.0] &   [1.6422613670728028] &                   NaN &                     NaN \\\\\n",
      "7  &                  [1.0] &   [1.6030298311321267] &                   NaN &                     NaN \\\\\n",
      "8  &                  [1.0] &   [1.6234196703035069] &                   NaN &                     NaN \\\\\n",
      "9  &                  [1.0] &   [1.4998920755309086] &                   NaN &                     NaN \\\\\n",
      "10 &                  [1.0] &                    NaN &                   NaN &                     NaN \\\\\n",
      "11 &                  [1.0] &                    NaN &                   NaN &                     NaN \\\\\n",
      "12 &                  [1.0] &                    NaN &                   NaN &                     NaN \\\\\n",
      "13 &                  [1.0] &                    NaN &                   NaN &                     NaN \\\\\n",
      "14 &                  [1.0] &                    NaN &                   NaN &                     NaN \\\\\n",
      "15 &                  [1.0] &                    NaN &                   NaN &                     NaN \\\\\n",
      "16 &                  [1.0] &                    NaN &                   NaN &                     NaN \\\\\n",
      "17 &                  [1.0] &                    NaN &                   NaN &                     NaN \\\\\n",
      "18 &                  [1.0] &                    NaN &                   NaN &                     NaN \\\\\n",
      "19 &                  [1.0] &                    NaN &                   NaN &                     NaN \\\\\n",
      "20 &                  [1.0] &                    NaN &                   NaN &                     NaN \\\\\n",
      "21 &                  [1.0] &                    NaN &                   NaN &                     NaN \\\\\n",
      "22 &                  [1.0] &                    NaN &                   NaN &                     NaN \\\\\n",
      "23 &                  [1.0] &                    NaN &                   NaN &                     NaN \\\\\n",
      "24 &                  [1.0] &                    NaN &                   NaN &                     NaN \\\\\n",
      "25 &                  [1.0] &                    NaN &                   NaN &                     NaN \\\\\n",
      "26 &                  [1.0] &                    NaN &                   NaN &                     NaN \\\\\n",
      "27 &                  [1.0] &                    NaN &                   NaN &                     NaN \\\\\n",
      "28 &                  [1.0] &                    NaN &                   NaN &                     NaN \\\\\n",
      "29 &                  [1.0] &                    NaN &                   NaN &                     NaN \\\\\n",
      "30 &                  [1.0] &                    NaN &                   NaN &                     NaN \\\\\n",
      "31 &                  [1.0] &                    NaN &                   NaN &                     NaN \\\\\n",
      "32 &                  [1.0] &                    NaN &                   NaN &                     NaN \\\\\n",
      "33 &                  [1.0] &                    NaN &                   NaN &                     NaN \\\\\n",
      "34 &                  [1.0] &                    NaN &                   NaN &                     NaN \\\\\n",
      "35 &                  [1.0] &                    NaN &                   NaN &                     NaN \\\\\n",
      "36 &                  [1.0] &                    NaN &                   NaN &                     NaN \\\\\n",
      "37 &                  [1.0] &                    NaN &                   NaN &                     NaN \\\\\n",
      "38 &                  [1.0] &                    NaN &                   NaN &                     NaN \\\\\n",
      "39 &                  [1.0] &                    NaN &                   NaN &                     NaN \\\\\n",
      "40 &                  [1.0] &                    NaN &                   NaN &                     NaN \\\\\n",
      "41 &                  [1.0] &                    NaN &                   NaN &                     NaN \\\\\n",
      "42 &                  [1.0] &                    NaN &                   NaN &                     NaN \\\\\n",
      "43 &                  [1.0] &                    NaN &                   NaN &                     NaN \\\\\n",
      "44 &                  [1.0] &                    NaN &                   NaN &                     NaN \\\\\n",
      "45 &                  [1.0] &                    NaN &                   NaN &                     NaN \\\\\n",
      "46 &                  [1.0] &                    NaN &                   NaN &                     NaN \\\\\n",
      "47 &                  [1.0] &                    NaN &                   NaN &                     NaN \\\\\n",
      "48 &                  [1.0] &                    NaN &                   NaN &                     NaN \\\\\n",
      "49 &                  [1.0] &                    NaN &                   NaN &                     NaN \\\\\n",
      "50 &                  [1.0] &                    NaN &                   NaN &                     NaN \\\\\n",
      "51 &  [-1.3219280948873624] &                    NaN &                   NaN &                     NaN \\\\\n",
      "\\bottomrule\n",
      "\\end{tabular}\n",
      "\n"
     ]
    }
   ],
   "source": [
    "print(tab_ordem_3.to_latex())"
   ]
  }
 ],
 "metadata": {
  "kernelspec": {
   "display_name": "Python 3",
   "language": "python",
   "name": "python3"
  },
  "language_info": {
   "codemirror_mode": {
    "name": "ipython",
    "version": 3
   },
   "file_extension": ".py",
   "mimetype": "text/x-python",
   "name": "python",
   "nbconvert_exporter": "python",
   "pygments_lexer": "ipython3",
   "version": "3.8.5"
  }
 },
 "nbformat": 4,
 "nbformat_minor": 4
}
