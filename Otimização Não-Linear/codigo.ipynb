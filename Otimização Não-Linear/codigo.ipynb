{
  "cells": [
    {
      "cell_type": "markdown",
      "metadata": {
        "id": "JJSMrCnv0iIU"
      },
      "source": [
        "# Otimização Não-Linear (2022)\n",
        "## Trabalho final (Código)\n",
        "\n",
        "### Grupo\n",
        "Andre Guarnier De Mitri - 11395579 \\\n",
        "Caio Assumpção Rezzadori - 11810481 \\"
      ]
    },
    {
      "cell_type": "code",
      "execution_count": 1,
      "metadata": {
        "id": "ESrWlVrqQTNF"
      },
      "outputs": [],
      "source": [
        "#Bibliotecas principais\n",
        "import pandas as pd\n",
        "import numpy as np\n",
        "import matplotlib.pyplot as plt"
      ]
    },
    {
      "cell_type": "code",
      "execution_count": 2,
      "metadata": {
        "colab": {
          "base_uri": "https://localhost:8080/"
        },
        "id": "PZNtx9710IVH",
        "outputId": "b965d854-0848-4218-81ca-83479c740efc"
      },
      "outputs": [
        {
          "name": "stdout",
          "output_type": "stream",
          "text": [
            "Looking in indexes: https://pypi.org/simple, https://us-python.pkg.dev/colab-wheels/public/simple/\n",
            "Collecting latex\n",
            "  Downloading latex-0.7.0.tar.gz (6.5 kB)\n",
            "Collecting tempdir\n",
            "  Downloading tempdir-0.7.1.tar.gz (5.9 kB)\n",
            "Collecting data\n",
            "  Downloading data-0.4.tar.gz (7.0 kB)\n",
            "Requirement already satisfied: future in /usr/local/lib/python3.8/dist-packages (from latex) (0.16.0)\n",
            "Collecting shutilwhich\n",
            "  Downloading shutilwhich-1.1.0.tar.gz (2.3 kB)\n",
            "Requirement already satisfied: six in /usr/local/lib/python3.8/dist-packages (from data->latex) (1.15.0)\n",
            "Requirement already satisfied: decorator in /usr/local/lib/python3.8/dist-packages (from data->latex) (4.4.2)\n",
            "Collecting funcsigs\n",
            "  Downloading funcsigs-1.0.2-py2.py3-none-any.whl (17 kB)\n",
            "Building wheels for collected packages: latex, data, shutilwhich, tempdir\n",
            "  Building wheel for latex (setup.py) ... \u001b[?25l\u001b[?25hdone\n",
            "  Created wheel for latex: filename=latex-0.7.0-py3-none-any.whl size=7606 sha256=07c6c0c6e441bef8eddd5ae01158bc5e038e94491bfc594de5665207cfb2ffb6\n",
            "  Stored in directory: /root/.cache/pip/wheels/16/c1/33/30e79ef1232ec43bb51b17ad60c5bfa6849fa0c9bc939ca089\n",
            "  Building wheel for data (setup.py) ... \u001b[?25l\u001b[?25hdone\n",
            "  Created wheel for data: filename=data-0.4-py3-none-any.whl size=7246 sha256=d2441e3d33e7c59c828013c4cd521850d1eea44722944e739f2efaa85eb555f0\n",
            "  Stored in directory: /root/.cache/pip/wheels/5c/78/30/ac68ac8de8481b3b4334617a48ef1758323f30709b2f923362\n",
            "  Building wheel for shutilwhich (setup.py) ... \u001b[?25l\u001b[?25hdone\n",
            "  Created wheel for shutilwhich: filename=shutilwhich-1.1.0-py3-none-any.whl size=2782 sha256=10d79291516344f7b87f4123cddd7cbd7706e3435fbad43d7244c270b184f064\n",
            "  Stored in directory: /root/.cache/pip/wheels/27/f1/8b/8e9215b5809387fcf93d0eb9c1a95a7cb30b369b3c1d986f1c\n",
            "  Building wheel for tempdir (setup.py) ... \u001b[?25l\u001b[?25hdone\n",
            "  Created wheel for tempdir: filename=tempdir-0.7.1-py3-none-any.whl size=2213 sha256=21310bf473a2a8a76683fb25d2b73912ac0c2e4d6f3ceefb9f39cf892c85d1ef\n",
            "  Stored in directory: /root/.cache/pip/wheels/ea/e1/da/0c7710dab603b931bcd9afec71573767e22ca5ac17be1a5fa9\n",
            "Successfully built latex data shutilwhich tempdir\n",
            "Installing collected packages: funcsigs, tempdir, shutilwhich, data, latex\n",
            "Successfully installed data-0.4 funcsigs-1.0.2 latex-0.7.0 shutilwhich-1.1.0 tempdir-0.7.1\n"
          ]
        }
      ],
      "source": [
        "#Bibliotecas auxliares/complementares\n",
        "import seaborn as sns\n",
        "import matplotlib as  mpl\n",
        "from matplotlib import axes\n",
        "from sklearn.model_selection import train_test_split\n",
        "\n",
        "mpl.rcParams.update(mpl.rcParamsDefault)\n",
        "!pip install latex"
      ]
    },
    {
      "cell_type": "markdown",
      "metadata": {
        "id": "TWGgeGppi_2F"
      },
      "source": [
        "## Carregando os dados"
      ]
    },
    {
      "cell_type": "code",
      "execution_count": 3,
      "metadata": {
        "colab": {
          "base_uri": "https://localhost:8080/",
          "height": 0
        },
        "id": "ooikwtxuQfmK",
        "outputId": "c7852bea-6cc8-4e20-9381-9b2003ebaec8"
      },
      "outputs": [
        {
          "data": {
            "text/html": [
              "\n",
              "  <div id=\"df-f8c5d3e5-a378-45bf-8aaa-a7343205582c\">\n",
              "    <div class=\"colab-df-container\">\n",
              "      <div>\n",
              "<style scoped>\n",
              "    .dataframe tbody tr th:only-of-type {\n",
              "        vertical-align: middle;\n",
              "    }\n",
              "\n",
              "    .dataframe tbody tr th {\n",
              "        vertical-align: top;\n",
              "    }\n",
              "\n",
              "    .dataframe thead th {\n",
              "        text-align: right;\n",
              "    }\n",
              "</style>\n",
              "<table border=\"1\" class=\"dataframe\">\n",
              "  <thead>\n",
              "    <tr style=\"text-align: right;\">\n",
              "      <th></th>\n",
              "      <th>id</th>\n",
              "      <th>diagnosis</th>\n",
              "      <th>radius_mean</th>\n",
              "      <th>texture_mean</th>\n",
              "      <th>perimeter_mean</th>\n",
              "      <th>area_mean</th>\n",
              "      <th>smoothness_mean</th>\n",
              "      <th>compactness_mean</th>\n",
              "      <th>concavity_mean</th>\n",
              "      <th>concave points_mean</th>\n",
              "      <th>...</th>\n",
              "      <th>texture_worst</th>\n",
              "      <th>perimeter_worst</th>\n",
              "      <th>area_worst</th>\n",
              "      <th>smoothness_worst</th>\n",
              "      <th>compactness_worst</th>\n",
              "      <th>concavity_worst</th>\n",
              "      <th>concave points_worst</th>\n",
              "      <th>symmetry_worst</th>\n",
              "      <th>fractal_dimension_worst</th>\n",
              "      <th>Unnamed: 32</th>\n",
              "    </tr>\n",
              "  </thead>\n",
              "  <tbody>\n",
              "    <tr>\n",
              "      <th>0</th>\n",
              "      <td>842302</td>\n",
              "      <td>M</td>\n",
              "      <td>17.99</td>\n",
              "      <td>10.38</td>\n",
              "      <td>122.80</td>\n",
              "      <td>1001.0</td>\n",
              "      <td>0.11840</td>\n",
              "      <td>0.27760</td>\n",
              "      <td>0.30010</td>\n",
              "      <td>0.14710</td>\n",
              "      <td>...</td>\n",
              "      <td>17.33</td>\n",
              "      <td>184.60</td>\n",
              "      <td>2019.0</td>\n",
              "      <td>0.1622</td>\n",
              "      <td>0.6656</td>\n",
              "      <td>0.7119</td>\n",
              "      <td>0.2654</td>\n",
              "      <td>0.4601</td>\n",
              "      <td>0.11890</td>\n",
              "      <td>NaN</td>\n",
              "    </tr>\n",
              "    <tr>\n",
              "      <th>1</th>\n",
              "      <td>842517</td>\n",
              "      <td>M</td>\n",
              "      <td>20.57</td>\n",
              "      <td>17.77</td>\n",
              "      <td>132.90</td>\n",
              "      <td>1326.0</td>\n",
              "      <td>0.08474</td>\n",
              "      <td>0.07864</td>\n",
              "      <td>0.08690</td>\n",
              "      <td>0.07017</td>\n",
              "      <td>...</td>\n",
              "      <td>23.41</td>\n",
              "      <td>158.80</td>\n",
              "      <td>1956.0</td>\n",
              "      <td>0.1238</td>\n",
              "      <td>0.1866</td>\n",
              "      <td>0.2416</td>\n",
              "      <td>0.1860</td>\n",
              "      <td>0.2750</td>\n",
              "      <td>0.08902</td>\n",
              "      <td>NaN</td>\n",
              "    </tr>\n",
              "    <tr>\n",
              "      <th>2</th>\n",
              "      <td>84300903</td>\n",
              "      <td>M</td>\n",
              "      <td>19.69</td>\n",
              "      <td>21.25</td>\n",
              "      <td>130.00</td>\n",
              "      <td>1203.0</td>\n",
              "      <td>0.10960</td>\n",
              "      <td>0.15990</td>\n",
              "      <td>0.19740</td>\n",
              "      <td>0.12790</td>\n",
              "      <td>...</td>\n",
              "      <td>25.53</td>\n",
              "      <td>152.50</td>\n",
              "      <td>1709.0</td>\n",
              "      <td>0.1444</td>\n",
              "      <td>0.4245</td>\n",
              "      <td>0.4504</td>\n",
              "      <td>0.2430</td>\n",
              "      <td>0.3613</td>\n",
              "      <td>0.08758</td>\n",
              "      <td>NaN</td>\n",
              "    </tr>\n",
              "    <tr>\n",
              "      <th>3</th>\n",
              "      <td>84348301</td>\n",
              "      <td>M</td>\n",
              "      <td>11.42</td>\n",
              "      <td>20.38</td>\n",
              "      <td>77.58</td>\n",
              "      <td>386.1</td>\n",
              "      <td>0.14250</td>\n",
              "      <td>0.28390</td>\n",
              "      <td>0.24140</td>\n",
              "      <td>0.10520</td>\n",
              "      <td>...</td>\n",
              "      <td>26.50</td>\n",
              "      <td>98.87</td>\n",
              "      <td>567.7</td>\n",
              "      <td>0.2098</td>\n",
              "      <td>0.8663</td>\n",
              "      <td>0.6869</td>\n",
              "      <td>0.2575</td>\n",
              "      <td>0.6638</td>\n",
              "      <td>0.17300</td>\n",
              "      <td>NaN</td>\n",
              "    </tr>\n",
              "    <tr>\n",
              "      <th>4</th>\n",
              "      <td>84358402</td>\n",
              "      <td>M</td>\n",
              "      <td>20.29</td>\n",
              "      <td>14.34</td>\n",
              "      <td>135.10</td>\n",
              "      <td>1297.0</td>\n",
              "      <td>0.10030</td>\n",
              "      <td>0.13280</td>\n",
              "      <td>0.19800</td>\n",
              "      <td>0.10430</td>\n",
              "      <td>...</td>\n",
              "      <td>16.67</td>\n",
              "      <td>152.20</td>\n",
              "      <td>1575.0</td>\n",
              "      <td>0.1374</td>\n",
              "      <td>0.2050</td>\n",
              "      <td>0.4000</td>\n",
              "      <td>0.1625</td>\n",
              "      <td>0.2364</td>\n",
              "      <td>0.07678</td>\n",
              "      <td>NaN</td>\n",
              "    </tr>\n",
              "    <tr>\n",
              "      <th>5</th>\n",
              "      <td>843786</td>\n",
              "      <td>M</td>\n",
              "      <td>12.45</td>\n",
              "      <td>15.70</td>\n",
              "      <td>82.57</td>\n",
              "      <td>477.1</td>\n",
              "      <td>0.12780</td>\n",
              "      <td>0.17000</td>\n",
              "      <td>0.15780</td>\n",
              "      <td>0.08089</td>\n",
              "      <td>...</td>\n",
              "      <td>23.75</td>\n",
              "      <td>103.40</td>\n",
              "      <td>741.6</td>\n",
              "      <td>0.1791</td>\n",
              "      <td>0.5249</td>\n",
              "      <td>0.5355</td>\n",
              "      <td>0.1741</td>\n",
              "      <td>0.3985</td>\n",
              "      <td>0.12440</td>\n",
              "      <td>NaN</td>\n",
              "    </tr>\n",
              "    <tr>\n",
              "      <th>6</th>\n",
              "      <td>844359</td>\n",
              "      <td>M</td>\n",
              "      <td>18.25</td>\n",
              "      <td>19.98</td>\n",
              "      <td>119.60</td>\n",
              "      <td>1040.0</td>\n",
              "      <td>0.09463</td>\n",
              "      <td>0.10900</td>\n",
              "      <td>0.11270</td>\n",
              "      <td>0.07400</td>\n",
              "      <td>...</td>\n",
              "      <td>27.66</td>\n",
              "      <td>153.20</td>\n",
              "      <td>1606.0</td>\n",
              "      <td>0.1442</td>\n",
              "      <td>0.2576</td>\n",
              "      <td>0.3784</td>\n",
              "      <td>0.1932</td>\n",
              "      <td>0.3063</td>\n",
              "      <td>0.08368</td>\n",
              "      <td>NaN</td>\n",
              "    </tr>\n",
              "    <tr>\n",
              "      <th>7</th>\n",
              "      <td>84458202</td>\n",
              "      <td>M</td>\n",
              "      <td>13.71</td>\n",
              "      <td>20.83</td>\n",
              "      <td>90.20</td>\n",
              "      <td>577.9</td>\n",
              "      <td>0.11890</td>\n",
              "      <td>0.16450</td>\n",
              "      <td>0.09366</td>\n",
              "      <td>0.05985</td>\n",
              "      <td>...</td>\n",
              "      <td>28.14</td>\n",
              "      <td>110.60</td>\n",
              "      <td>897.0</td>\n",
              "      <td>0.1654</td>\n",
              "      <td>0.3682</td>\n",
              "      <td>0.2678</td>\n",
              "      <td>0.1556</td>\n",
              "      <td>0.3196</td>\n",
              "      <td>0.11510</td>\n",
              "      <td>NaN</td>\n",
              "    </tr>\n",
              "    <tr>\n",
              "      <th>8</th>\n",
              "      <td>844981</td>\n",
              "      <td>M</td>\n",
              "      <td>13.00</td>\n",
              "      <td>21.82</td>\n",
              "      <td>87.50</td>\n",
              "      <td>519.8</td>\n",
              "      <td>0.12730</td>\n",
              "      <td>0.19320</td>\n",
              "      <td>0.18590</td>\n",
              "      <td>0.09353</td>\n",
              "      <td>...</td>\n",
              "      <td>30.73</td>\n",
              "      <td>106.20</td>\n",
              "      <td>739.3</td>\n",
              "      <td>0.1703</td>\n",
              "      <td>0.5401</td>\n",
              "      <td>0.5390</td>\n",
              "      <td>0.2060</td>\n",
              "      <td>0.4378</td>\n",
              "      <td>0.10720</td>\n",
              "      <td>NaN</td>\n",
              "    </tr>\n",
              "    <tr>\n",
              "      <th>9</th>\n",
              "      <td>84501001</td>\n",
              "      <td>M</td>\n",
              "      <td>12.46</td>\n",
              "      <td>24.04</td>\n",
              "      <td>83.97</td>\n",
              "      <td>475.9</td>\n",
              "      <td>0.11860</td>\n",
              "      <td>0.23960</td>\n",
              "      <td>0.22730</td>\n",
              "      <td>0.08543</td>\n",
              "      <td>...</td>\n",
              "      <td>40.68</td>\n",
              "      <td>97.65</td>\n",
              "      <td>711.4</td>\n",
              "      <td>0.1853</td>\n",
              "      <td>1.0580</td>\n",
              "      <td>1.1050</td>\n",
              "      <td>0.2210</td>\n",
              "      <td>0.4366</td>\n",
              "      <td>0.20750</td>\n",
              "      <td>NaN</td>\n",
              "    </tr>\n",
              "  </tbody>\n",
              "</table>\n",
              "<p>10 rows × 33 columns</p>\n",
              "</div>\n",
              "      <button class=\"colab-df-convert\" onclick=\"convertToInteractive('df-f8c5d3e5-a378-45bf-8aaa-a7343205582c')\"\n",
              "              title=\"Convert this dataframe to an interactive table.\"\n",
              "              style=\"display:none;\">\n",
              "        \n",
              "  <svg xmlns=\"http://www.w3.org/2000/svg\" height=\"24px\"viewBox=\"0 0 24 24\"\n",
              "       width=\"24px\">\n",
              "    <path d=\"M0 0h24v24H0V0z\" fill=\"none\"/>\n",
              "    <path d=\"M18.56 5.44l.94 2.06.94-2.06 2.06-.94-2.06-.94-.94-2.06-.94 2.06-2.06.94zm-11 1L8.5 8.5l.94-2.06 2.06-.94-2.06-.94L8.5 2.5l-.94 2.06-2.06.94zm10 10l.94 2.06.94-2.06 2.06-.94-2.06-.94-.94-2.06-.94 2.06-2.06.94z\"/><path d=\"M17.41 7.96l-1.37-1.37c-.4-.4-.92-.59-1.43-.59-.52 0-1.04.2-1.43.59L10.3 9.45l-7.72 7.72c-.78.78-.78 2.05 0 2.83L4 21.41c.39.39.9.59 1.41.59.51 0 1.02-.2 1.41-.59l7.78-7.78 2.81-2.81c.8-.78.8-2.07 0-2.86zM5.41 20L4 18.59l7.72-7.72 1.47 1.35L5.41 20z\"/>\n",
              "  </svg>\n",
              "      </button>\n",
              "      \n",
              "  <style>\n",
              "    .colab-df-container {\n",
              "      display:flex;\n",
              "      flex-wrap:wrap;\n",
              "      gap: 12px;\n",
              "    }\n",
              "\n",
              "    .colab-df-convert {\n",
              "      background-color: #E8F0FE;\n",
              "      border: none;\n",
              "      border-radius: 50%;\n",
              "      cursor: pointer;\n",
              "      display: none;\n",
              "      fill: #1967D2;\n",
              "      height: 32px;\n",
              "      padding: 0 0 0 0;\n",
              "      width: 32px;\n",
              "    }\n",
              "\n",
              "    .colab-df-convert:hover {\n",
              "      background-color: #E2EBFA;\n",
              "      box-shadow: 0px 1px 2px rgba(60, 64, 67, 0.3), 0px 1px 3px 1px rgba(60, 64, 67, 0.15);\n",
              "      fill: #174EA6;\n",
              "    }\n",
              "\n",
              "    [theme=dark] .colab-df-convert {\n",
              "      background-color: #3B4455;\n",
              "      fill: #D2E3FC;\n",
              "    }\n",
              "\n",
              "    [theme=dark] .colab-df-convert:hover {\n",
              "      background-color: #434B5C;\n",
              "      box-shadow: 0px 1px 3px 1px rgba(0, 0, 0, 0.15);\n",
              "      filter: drop-shadow(0px 1px 2px rgba(0, 0, 0, 0.3));\n",
              "      fill: #FFFFFF;\n",
              "    }\n",
              "  </style>\n",
              "\n",
              "      <script>\n",
              "        const buttonEl =\n",
              "          document.querySelector('#df-f8c5d3e5-a378-45bf-8aaa-a7343205582c button.colab-df-convert');\n",
              "        buttonEl.style.display =\n",
              "          google.colab.kernel.accessAllowed ? 'block' : 'none';\n",
              "\n",
              "        async function convertToInteractive(key) {\n",
              "          const element = document.querySelector('#df-f8c5d3e5-a378-45bf-8aaa-a7343205582c');\n",
              "          const dataTable =\n",
              "            await google.colab.kernel.invokeFunction('convertToInteractive',\n",
              "                                                     [key], {});\n",
              "          if (!dataTable) return;\n",
              "\n",
              "          const docLinkHtml = 'Like what you see? Visit the ' +\n",
              "            '<a target=\"_blank\" href=https://colab.research.google.com/notebooks/data_table.ipynb>data table notebook</a>'\n",
              "            + ' to learn more about interactive tables.';\n",
              "          element.innerHTML = '';\n",
              "          dataTable['output_type'] = 'display_data';\n",
              "          await google.colab.output.renderOutput(dataTable, element);\n",
              "          const docLink = document.createElement('div');\n",
              "          docLink.innerHTML = docLinkHtml;\n",
              "          element.appendChild(docLink);\n",
              "        }\n",
              "      </script>\n",
              "    </div>\n",
              "  </div>\n",
              "  "
            ],
            "text/plain": [
              "         id diagnosis  radius_mean  texture_mean  perimeter_mean  area_mean  \\\n",
              "0    842302         M        17.99         10.38          122.80     1001.0   \n",
              "1    842517         M        20.57         17.77          132.90     1326.0   \n",
              "2  84300903         M        19.69         21.25          130.00     1203.0   \n",
              "3  84348301         M        11.42         20.38           77.58      386.1   \n",
              "4  84358402         M        20.29         14.34          135.10     1297.0   \n",
              "5    843786         M        12.45         15.70           82.57      477.1   \n",
              "6    844359         M        18.25         19.98          119.60     1040.0   \n",
              "7  84458202         M        13.71         20.83           90.20      577.9   \n",
              "8    844981         M        13.00         21.82           87.50      519.8   \n",
              "9  84501001         M        12.46         24.04           83.97      475.9   \n",
              "\n",
              "   smoothness_mean  compactness_mean  concavity_mean  concave points_mean  \\\n",
              "0          0.11840           0.27760         0.30010              0.14710   \n",
              "1          0.08474           0.07864         0.08690              0.07017   \n",
              "2          0.10960           0.15990         0.19740              0.12790   \n",
              "3          0.14250           0.28390         0.24140              0.10520   \n",
              "4          0.10030           0.13280         0.19800              0.10430   \n",
              "5          0.12780           0.17000         0.15780              0.08089   \n",
              "6          0.09463           0.10900         0.11270              0.07400   \n",
              "7          0.11890           0.16450         0.09366              0.05985   \n",
              "8          0.12730           0.19320         0.18590              0.09353   \n",
              "9          0.11860           0.23960         0.22730              0.08543   \n",
              "\n",
              "   ...  texture_worst  perimeter_worst  area_worst  smoothness_worst  \\\n",
              "0  ...          17.33           184.60      2019.0            0.1622   \n",
              "1  ...          23.41           158.80      1956.0            0.1238   \n",
              "2  ...          25.53           152.50      1709.0            0.1444   \n",
              "3  ...          26.50            98.87       567.7            0.2098   \n",
              "4  ...          16.67           152.20      1575.0            0.1374   \n",
              "5  ...          23.75           103.40       741.6            0.1791   \n",
              "6  ...          27.66           153.20      1606.0            0.1442   \n",
              "7  ...          28.14           110.60       897.0            0.1654   \n",
              "8  ...          30.73           106.20       739.3            0.1703   \n",
              "9  ...          40.68            97.65       711.4            0.1853   \n",
              "\n",
              "   compactness_worst  concavity_worst  concave points_worst  symmetry_worst  \\\n",
              "0             0.6656           0.7119                0.2654          0.4601   \n",
              "1             0.1866           0.2416                0.1860          0.2750   \n",
              "2             0.4245           0.4504                0.2430          0.3613   \n",
              "3             0.8663           0.6869                0.2575          0.6638   \n",
              "4             0.2050           0.4000                0.1625          0.2364   \n",
              "5             0.5249           0.5355                0.1741          0.3985   \n",
              "6             0.2576           0.3784                0.1932          0.3063   \n",
              "7             0.3682           0.2678                0.1556          0.3196   \n",
              "8             0.5401           0.5390                0.2060          0.4378   \n",
              "9             1.0580           1.1050                0.2210          0.4366   \n",
              "\n",
              "   fractal_dimension_worst  Unnamed: 32  \n",
              "0                  0.11890          NaN  \n",
              "1                  0.08902          NaN  \n",
              "2                  0.08758          NaN  \n",
              "3                  0.17300          NaN  \n",
              "4                  0.07678          NaN  \n",
              "5                  0.12440          NaN  \n",
              "6                  0.08368          NaN  \n",
              "7                  0.11510          NaN  \n",
              "8                  0.10720          NaN  \n",
              "9                  0.20750          NaN  \n",
              "\n",
              "[10 rows x 33 columns]"
            ]
          },
          "execution_count": 3,
          "metadata": {},
          "output_type": "execute_result"
        }
      ],
      "source": [
        "url = 'https://drive.google.com/file/d/1_yVDFkwl0KxTl9zTHMw70IEfl2cqoIAb/view?usp=share_link'\n",
        "url ='https://drive.google.com/uc?id=' + url.split('/')[-2]\n",
        "df = pd.read_csv(url)\n",
        "df.head(10)"
      ]
    },
    {
      "cell_type": "markdown",
      "metadata": {
        "id": "qxyD4HRdhlyd"
      },
      "source": [
        "## Tratamento inicial dos dados"
      ]
    },
    {
      "cell_type": "markdown",
      "metadata": {
        "id": "bma5qTHrQ0rT"
      },
      "source": [
        "### Filtrando os dados de interesse para o problema"
      ]
    },
    {
      "cell_type": "code",
      "execution_count": 4,
      "metadata": {
        "id": "WUhsgrOzQt8r"
      },
      "outputs": [],
      "source": [
        "df = df.loc[:, ['diagnosis', 'radius_mean']]"
      ]
    },
    {
      "cell_type": "markdown",
      "metadata": {
        "id": "lNkk7KGti5aL"
      },
      "source": [
        "### Coluna Categórica\n",
        "Adicionando coluna \"isMaligno\" para representar se o tumor do paciente é maligno (Diagnostico \"M\") com o número 1, e benigno (Diagnostico \"B\") com o número 0."
      ]
    },
    {
      "cell_type": "code",
      "execution_count": 5,
      "metadata": {
        "colab": {
          "base_uri": "https://localhost:8080/",
          "height": 0
        },
        "id": "pVpNX7asQkR0",
        "outputId": "dab80074-0c6b-4ec8-e5bf-eba99c9d36a9"
      },
      "outputs": [
        {
          "data": {
            "text/html": [
              "\n",
              "  <div id=\"df-395652ec-8df1-493f-b0d6-53cba44e1657\">\n",
              "    <div class=\"colab-df-container\">\n",
              "      <div>\n",
              "<style scoped>\n",
              "    .dataframe tbody tr th:only-of-type {\n",
              "        vertical-align: middle;\n",
              "    }\n",
              "\n",
              "    .dataframe tbody tr th {\n",
              "        vertical-align: top;\n",
              "    }\n",
              "\n",
              "    .dataframe thead th {\n",
              "        text-align: right;\n",
              "    }\n",
              "</style>\n",
              "<table border=\"1\" class=\"dataframe\">\n",
              "  <thead>\n",
              "    <tr style=\"text-align: right;\">\n",
              "      <th></th>\n",
              "      <th>diagnosis</th>\n",
              "      <th>radius_mean</th>\n",
              "      <th>isMaligno</th>\n",
              "    </tr>\n",
              "  </thead>\n",
              "  <tbody>\n",
              "    <tr>\n",
              "      <th>0</th>\n",
              "      <td>M</td>\n",
              "      <td>17.99</td>\n",
              "      <td>1</td>\n",
              "    </tr>\n",
              "    <tr>\n",
              "      <th>1</th>\n",
              "      <td>M</td>\n",
              "      <td>20.57</td>\n",
              "      <td>1</td>\n",
              "    </tr>\n",
              "    <tr>\n",
              "      <th>2</th>\n",
              "      <td>M</td>\n",
              "      <td>19.69</td>\n",
              "      <td>1</td>\n",
              "    </tr>\n",
              "    <tr>\n",
              "      <th>3</th>\n",
              "      <td>M</td>\n",
              "      <td>11.42</td>\n",
              "      <td>1</td>\n",
              "    </tr>\n",
              "    <tr>\n",
              "      <th>4</th>\n",
              "      <td>M</td>\n",
              "      <td>20.29</td>\n",
              "      <td>1</td>\n",
              "    </tr>\n",
              "    <tr>\n",
              "      <th>...</th>\n",
              "      <td>...</td>\n",
              "      <td>...</td>\n",
              "      <td>...</td>\n",
              "    </tr>\n",
              "    <tr>\n",
              "      <th>564</th>\n",
              "      <td>M</td>\n",
              "      <td>21.56</td>\n",
              "      <td>1</td>\n",
              "    </tr>\n",
              "    <tr>\n",
              "      <th>565</th>\n",
              "      <td>M</td>\n",
              "      <td>20.13</td>\n",
              "      <td>1</td>\n",
              "    </tr>\n",
              "    <tr>\n",
              "      <th>566</th>\n",
              "      <td>M</td>\n",
              "      <td>16.60</td>\n",
              "      <td>1</td>\n",
              "    </tr>\n",
              "    <tr>\n",
              "      <th>567</th>\n",
              "      <td>M</td>\n",
              "      <td>20.60</td>\n",
              "      <td>1</td>\n",
              "    </tr>\n",
              "    <tr>\n",
              "      <th>568</th>\n",
              "      <td>B</td>\n",
              "      <td>7.76</td>\n",
              "      <td>0</td>\n",
              "    </tr>\n",
              "  </tbody>\n",
              "</table>\n",
              "<p>569 rows × 3 columns</p>\n",
              "</div>\n",
              "      <button class=\"colab-df-convert\" onclick=\"convertToInteractive('df-395652ec-8df1-493f-b0d6-53cba44e1657')\"\n",
              "              title=\"Convert this dataframe to an interactive table.\"\n",
              "              style=\"display:none;\">\n",
              "        \n",
              "  <svg xmlns=\"http://www.w3.org/2000/svg\" height=\"24px\"viewBox=\"0 0 24 24\"\n",
              "       width=\"24px\">\n",
              "    <path d=\"M0 0h24v24H0V0z\" fill=\"none\"/>\n",
              "    <path d=\"M18.56 5.44l.94 2.06.94-2.06 2.06-.94-2.06-.94-.94-2.06-.94 2.06-2.06.94zm-11 1L8.5 8.5l.94-2.06 2.06-.94-2.06-.94L8.5 2.5l-.94 2.06-2.06.94zm10 10l.94 2.06.94-2.06 2.06-.94-2.06-.94-.94-2.06-.94 2.06-2.06.94z\"/><path d=\"M17.41 7.96l-1.37-1.37c-.4-.4-.92-.59-1.43-.59-.52 0-1.04.2-1.43.59L10.3 9.45l-7.72 7.72c-.78.78-.78 2.05 0 2.83L4 21.41c.39.39.9.59 1.41.59.51 0 1.02-.2 1.41-.59l7.78-7.78 2.81-2.81c.8-.78.8-2.07 0-2.86zM5.41 20L4 18.59l7.72-7.72 1.47 1.35L5.41 20z\"/>\n",
              "  </svg>\n",
              "      </button>\n",
              "      \n",
              "  <style>\n",
              "    .colab-df-container {\n",
              "      display:flex;\n",
              "      flex-wrap:wrap;\n",
              "      gap: 12px;\n",
              "    }\n",
              "\n",
              "    .colab-df-convert {\n",
              "      background-color: #E8F0FE;\n",
              "      border: none;\n",
              "      border-radius: 50%;\n",
              "      cursor: pointer;\n",
              "      display: none;\n",
              "      fill: #1967D2;\n",
              "      height: 32px;\n",
              "      padding: 0 0 0 0;\n",
              "      width: 32px;\n",
              "    }\n",
              "\n",
              "    .colab-df-convert:hover {\n",
              "      background-color: #E2EBFA;\n",
              "      box-shadow: 0px 1px 2px rgba(60, 64, 67, 0.3), 0px 1px 3px 1px rgba(60, 64, 67, 0.15);\n",
              "      fill: #174EA6;\n",
              "    }\n",
              "\n",
              "    [theme=dark] .colab-df-convert {\n",
              "      background-color: #3B4455;\n",
              "      fill: #D2E3FC;\n",
              "    }\n",
              "\n",
              "    [theme=dark] .colab-df-convert:hover {\n",
              "      background-color: #434B5C;\n",
              "      box-shadow: 0px 1px 3px 1px rgba(0, 0, 0, 0.15);\n",
              "      filter: drop-shadow(0px 1px 2px rgba(0, 0, 0, 0.3));\n",
              "      fill: #FFFFFF;\n",
              "    }\n",
              "  </style>\n",
              "\n",
              "      <script>\n",
              "        const buttonEl =\n",
              "          document.querySelector('#df-395652ec-8df1-493f-b0d6-53cba44e1657 button.colab-df-convert');\n",
              "        buttonEl.style.display =\n",
              "          google.colab.kernel.accessAllowed ? 'block' : 'none';\n",
              "\n",
              "        async function convertToInteractive(key) {\n",
              "          const element = document.querySelector('#df-395652ec-8df1-493f-b0d6-53cba44e1657');\n",
              "          const dataTable =\n",
              "            await google.colab.kernel.invokeFunction('convertToInteractive',\n",
              "                                                     [key], {});\n",
              "          if (!dataTable) return;\n",
              "\n",
              "          const docLinkHtml = 'Like what you see? Visit the ' +\n",
              "            '<a target=\"_blank\" href=https://colab.research.google.com/notebooks/data_table.ipynb>data table notebook</a>'\n",
              "            + ' to learn more about interactive tables.';\n",
              "          element.innerHTML = '';\n",
              "          dataTable['output_type'] = 'display_data';\n",
              "          await google.colab.output.renderOutput(dataTable, element);\n",
              "          const docLink = document.createElement('div');\n",
              "          docLink.innerHTML = docLinkHtml;\n",
              "          element.appendChild(docLink);\n",
              "        }\n",
              "      </script>\n",
              "    </div>\n",
              "  </div>\n",
              "  "
            ],
            "text/plain": [
              "    diagnosis  radius_mean  isMaligno\n",
              "0           M        17.99          1\n",
              "1           M        20.57          1\n",
              "2           M        19.69          1\n",
              "3           M        11.42          1\n",
              "4           M        20.29          1\n",
              "..        ...          ...        ...\n",
              "564         M        21.56          1\n",
              "565         M        20.13          1\n",
              "566         M        16.60          1\n",
              "567         M        20.60          1\n",
              "568         B         7.76          0\n",
              "\n",
              "[569 rows x 3 columns]"
            ]
          },
          "execution_count": 5,
          "metadata": {},
          "output_type": "execute_result"
        }
      ],
      "source": [
        "# Trasnformando a string do diagnostico em uma variavel Binaria\n",
        "df[\"isMaligno\"] = df[\"diagnosis\"].isin([\"M\"]).astype(int)\n",
        "df"
      ]
    },
    {
      "cell_type": "markdown",
      "metadata": {
        "id": "yil2Esd1YiVQ"
      },
      "source": [
        "## Variáveis de predição e resposta"
      ]
    },
    {
      "cell_type": "code",
      "execution_count": 6,
      "metadata": {
        "colab": {
          "base_uri": "https://localhost:8080/"
        },
        "id": "RXU9_ZSM3_Rp",
        "outputId": "fc42cab3-e2c9-45e3-fe59-87b3436d6d05"
      },
      "outputs": [
        {
          "name": "stdout",
          "output_type": "stream",
          "text": [
            "Tamanho da amostra: 569\n",
            "Numero de covariaveis: 2\n"
          ]
        }
      ],
      "source": [
        "#Selecionando variavel preditora\n",
        "Xd = df[['radius_mean']]\n",
        "\n",
        "#Inserindo coluna para o parametro  que independe de x (theta_0)\n",
        "Xd.insert(0, 'X0', 1)\n",
        "Xd.head()\n",
        "\n",
        "#Transformando os dados de valores para matriz\n",
        "X = Xd.values\n",
        "y = df.isMaligno.values\n",
        "\n",
        "m = len(X)\n",
        "print(f\"Tamanho da amostra: {m}\")\n",
        "\n",
        "n = 2\n",
        "print(f\"Numero de covariaveis: {n}\")"
      ]
    },
    {
      "cell_type": "markdown",
      "metadata": {
        "id": "EndDbot02Oh6"
      },
      "source": [
        "## Implementação das funções principais do problema"
      ]
    },
    {
      "cell_type": "code",
      "execution_count": 7,
      "metadata": {
        "id": "jeoWbatB2Nmr"
      },
      "outputs": [],
      "source": [
        "# Funcao logistica\n",
        "def f_theta(theta, X = X):\n",
        "  return 1/(1 + np.exp(-X@theta))\n",
        "\n",
        "#Funcao de custo (deseja-se minimizar)\n",
        "def J(theta, X=X, y=y, m=m):\n",
        "    J = -y.T@np.log(f_theta(theta, X)) - (1-y).T@np.log(1-f_theta(theta, X))\n",
        "    J = (1/m)*J\n",
        "    return J\n",
        "\n",
        "#Gradiente da funcao de custo\n",
        "def J_grad(theta, X=X, y=y, m=m):\n",
        "    dev = X.T@(f_theta(theta, X) - y)\n",
        "    dev = (1/m)*dev\n",
        "    return dev"
      ]
    },
    {
      "cell_type": "markdown",
      "metadata": {
        "id": "o-KQaXSEApIX"
      },
      "source": [
        "## Método do Gradiente Descendente"
      ]
    },
    {
      "cell_type": "markdown",
      "metadata": {
        "id": "vIJyOgNm0KxF"
      },
      "source": [
        "#### Método convergindo"
      ]
    },
    {
      "cell_type": "code",
      "execution_count": 8,
      "metadata": {
        "id": "61zkvecz0KxG"
      },
      "outputs": [],
      "source": [
        "# Tamanho do passo(alpha)\n",
        "a = 0.01*2*m/np.linalg.norm(X)\n",
        "\n",
        "# Chute inicial\n",
        "theta_k = np.zeros(n)\n",
        "\n",
        "# Lista das iteracoes\n",
        "J_list = []\n",
        "theta_list = []\n",
        "\n",
        "for i in range(2*10**5):\n",
        "    J_val = J(theta_k) # Custo do theta da iteracao atual\n",
        "    J_list.append(J_val) # Guardando custo da iteracao\n",
        "\n",
        "    theta_k = theta_k - a*J_grad(theta_k) # Atualizando os parametros\n",
        "    theta_list.append(list(theta_k)) # Guardando parametro da iteracao\n",
        "\n",
        "    if(abs(J_grad(theta_k)[0]) <= 1e-15 and abs(J_grad(theta_k)[1]) <= 1e-15):\n",
        "        # Condicao de parada de primeira ordem\n",
        "        print(f\"Parou na iteracao {i+1}\")\n",
        "        break"
      ]
    },
    {
      "cell_type": "code",
      "execution_count": 9,
      "metadata": {
        "colab": {
          "base_uri": "https://localhost:8080/"
        },
        "id": "w4DILeFy0lAs",
        "outputId": "c789c3a5-e3bd-4f4c-c2d4-ea7ba9d3bf02"
      },
      "outputs": [
        {
          "name": "stdout",
          "output_type": "stream",
          "text": [
            "Iterações:  200000 \n",
            "Parâmetros estimados:  [-15.23815069   1.03304919] \n",
            "Valor da função de custo:  0.28999198415257965 \n",
            "Gradiente da função de custo:  [ 7.69858228e-06 -5.38123831e-07]\n"
          ]
        }
      ],
      "source": [
        "# Exibindo os resultados\n",
        "print('Iterações: ', i + 1, \"\\nParâmetros estimados: \", theta_k, '\\nValor da função de custo: ', J_val, '\\nGradiente da função de custo: ', J_grad(theta_k))"
      ]
    },
    {
      "cell_type": "code",
      "execution_count": 10,
      "metadata": {
        "colab": {
          "base_uri": "https://localhost:8080/",
          "height": 0
        },
        "id": "jUhnRGHY0lAz",
        "outputId": "41ecc3e7-79cc-493e-a0c0-7dcbc0d3f11f"
      },
      "outputs": [
        {
          "data": {
            "text/html": [
              "<style type=\"text/css\">\n",
              "</style>\n",
              "<table id=\"T_9a393_\" class=\"dataframe\">\n",
              "  <thead>\n",
              "    <tr>\n",
              "      <th class=\"col_heading level0 col0\" >Iterações</th>\n",
              "      <th class=\"col_heading level0 col1\" >theta_0</th>\n",
              "      <th class=\"col_heading level0 col2\" >theta_1</th>\n",
              "      <th class=\"col_heading level0 col3\" >J(theta)</th>\n",
              "      <th class=\"col_heading level0 col4\" >nablaJ(theta)</th>\n",
              "    </tr>\n",
              "  </thead>\n",
              "  <tbody>\n",
              "    <tr>\n",
              "      <td id=\"T_9a393_row0_col0\" class=\"data row0 col0\" >200000</td>\n",
              "      <td id=\"T_9a393_row0_col1\" class=\"data row0 col1\" >-15.238151</td>\n",
              "      <td id=\"T_9a393_row0_col2\" class=\"data row0 col2\" >1.033049</td>\n",
              "      <td id=\"T_9a393_row0_col3\" class=\"data row0 col3\" >0.289992</td>\n",
              "      <td id=\"T_9a393_row0_col4\" class=\"data row0 col4\" >[ 7.69858228e-06 -5.38123831e-07]</td>\n",
              "    </tr>\n",
              "  </tbody>\n",
              "</table>\n"
            ],
            "text/plain": [
              "<pandas.io.formats.style.Styler at 0x7f67bfa194f0>"
            ]
          },
          "execution_count": 10,
          "metadata": {},
          "output_type": "execute_result"
        }
      ],
      "source": [
        "tabela = pd.DataFrame({'Iterações':[i + 1], 'theta_0': [theta_k[0]], 'theta_1': [theta_k[1]], 'J(theta)': [J_val], 'nablaJ(theta)': [J_grad(theta_k)]}).style.hide_index()\n",
        "tabela"
      ]
    },
    {
      "cell_type": "code",
      "execution_count": 11,
      "metadata": {
        "colab": {
          "base_uri": "https://localhost:8080/",
          "height": 0
        },
        "id": "wuiI6xA00lA0",
        "outputId": "14919e3c-926f-4f1e-d40b-8be727e6d6e4"
      },
      "outputs": [
        {
          "data": {
            "image/png": "[encoded data removed]",
            "text/plain": [
              "<Figure size 640x480 with 1 Axes>"
            ]
          },
          "metadata": {},
          "output_type": "display_data"
        }
      ],
      "source": [
        "# Plotando as estimacoes dos parametros em funcao das iteracoes\n",
        "fig, ax = plt.subplots()\n",
        "\n",
        "ax.plot(theta_list)\n",
        "ax.legend([r'$\\theta_k\\_ _0$', r'$\\theta_k\\_ 1$'])\n",
        "ax.set_xlabel('Iterações')\n",
        "ax.set_ylabel('Valor numérico')\n",
        "ax.set_ylim([-16, 3])\n",
        "ax.ticklabel_format(style='sci', axis='x', scilimits=(0,0))\n",
        "ax.set_title('Estimação dos parâmetros')\n",
        "plt.show()"
      ]
    },
    {
      "cell_type": "code",
      "execution_count": 12,
      "metadata": {
        "colab": {
          "base_uri": "https://localhost:8080/",
          "height": 0
        },
        "id": "T9Uq9uGd0lA1",
        "outputId": "add16987-d389-4609-c3bb-64c05550ce21"
      },
      "outputs": [
        {
          "data": {
            "image/png": "[encoded data removed]",
            "text/plain": [
              "<Figure size 640x480 with 1 Axes>"
            ]
          },
          "metadata": {},
          "output_type": "display_data"
        }
      ],
      "source": [
        "# Plotando o comportamento da funcao de custo\n",
        "fig, ax = plt.subplots()\n",
        "\n",
        "ax.plot(J_list)\n",
        "ax.legend([r'$J({\\theta}_k)$'])\n",
        "ax.set_xlabel('Iterações')\n",
        "ax.set_ylabel('Valor numérico')\n",
        "ax.ticklabel_format(style='sci', axis='x', scilimits=(0,0))\n",
        "ax.set_title('Função de custo')\n",
        "plt.show()"
      ]
    },
    {
      "cell_type": "code",
      "execution_count": 13,
      "metadata": {
        "colab": {
          "base_uri": "https://localhost:8080/",
          "height": 0
        },
        "id": "YeARipok0lA2",
        "outputId": "fd32e6ce-2359-4266-bf8a-4c606c8c8675"
      },
      "outputs": [
        {
          "data": {
            "image/png": "[encoded data removed]",
            "text/plain": [
              "<Figure size 640x480 with 1 Axes>"
            ]
          },
          "metadata": {},
          "output_type": "display_data"
        }
      ],
      "source": [
        "# Plotando o modelo estimado com os dados reais\n",
        "\n",
        "X_plot = np.linspace(-0, 30, 100)\n",
        "Y_plot = 1/(1 + np.exp(-theta_list[-1][0] - theta_list[-1][1]*X_plot))\n",
        "\n",
        "fig, ax = plt.subplots()\n",
        "ax.plot(X_plot, Y_plot, color = 'black')\n",
        "\n",
        "t = range(1, 101)\n",
        "ax.scatter(df.iloc[:, 1], df.loc[:, ['isMaligno']], s = 10, c = df.iloc[:, 1], cmap = 'plasma')\n",
        "\n",
        "ax.set_title('Modelo estimado')\n",
        "ax.set_xlabel('Valor da variável preditora(\\\"radius_mean\\\")')\n",
        "ax.set_ylabel('Probabilidade do \\ntumor ser maligno')\n",
        "ax.legend(['Modelo', 'Dados'])\n",
        "\n",
        "plt.show()"
      ]
    },
    {
      "cell_type": "code",
      "execution_count": 14,
      "metadata": {
        "colab": {
          "base_uri": "https://localhost:8080/",
          "height": 0
        },
        "id": "CClahCT40lA3",
        "outputId": "466e3327-5047-43d4-df7b-2f65cccb75b0"
      },
      "outputs": [
        {
          "data": {
            "text/html": [
              "\n",
              "  <div id=\"df-d60c5fee-3392-4279-a503-c7c1e039b73b\">\n",
              "    <div class=\"colab-df-container\">\n",
              "      <div>\n",
              "<style scoped>\n",
              "    .dataframe tbody tr th:only-of-type {\n",
              "        vertical-align: middle;\n",
              "    }\n",
              "\n",
              "    .dataframe tbody tr th {\n",
              "        vertical-align: top;\n",
              "    }\n",
              "\n",
              "    .dataframe thead th {\n",
              "        text-align: right;\n",
              "    }\n",
              "</style>\n",
              "<table border=\"1\" class=\"dataframe\">\n",
              "  <thead>\n",
              "    <tr style=\"text-align: right;\">\n",
              "      <th></th>\n",
              "      <th>diagnosis</th>\n",
              "      <th>radius_mean</th>\n",
              "      <th>isMaligno</th>\n",
              "      <th>Probabilidade</th>\n",
              "      <th>Predito</th>\n",
              "    </tr>\n",
              "  </thead>\n",
              "  <tbody>\n",
              "    <tr>\n",
              "      <th>0</th>\n",
              "      <td>M</td>\n",
              "      <td>17.99</td>\n",
              "      <td>1</td>\n",
              "      <td>0.965987</td>\n",
              "      <td>M</td>\n",
              "    </tr>\n",
              "    <tr>\n",
              "      <th>1</th>\n",
              "      <td>M</td>\n",
              "      <td>20.57</td>\n",
              "      <td>1</td>\n",
              "      <td>0.997556</td>\n",
              "      <td>M</td>\n",
              "    </tr>\n",
              "    <tr>\n",
              "      <th>2</th>\n",
              "      <td>M</td>\n",
              "      <td>19.69</td>\n",
              "      <td>1</td>\n",
              "      <td>0.993956</td>\n",
              "      <td>M</td>\n",
              "    </tr>\n",
              "    <tr>\n",
              "      <th>3</th>\n",
              "      <td>M</td>\n",
              "      <td>11.42</td>\n",
              "      <td>1</td>\n",
              "      <td>0.031047</td>\n",
              "      <td>B</td>\n",
              "    </tr>\n",
              "    <tr>\n",
              "      <th>4</th>\n",
              "      <td>M</td>\n",
              "      <td>20.29</td>\n",
              "      <td>1</td>\n",
              "      <td>0.996739</td>\n",
              "      <td>M</td>\n",
              "    </tr>\n",
              "    <tr>\n",
              "      <th>...</th>\n",
              "      <td>...</td>\n",
              "      <td>...</td>\n",
              "      <td>...</td>\n",
              "      <td>...</td>\n",
              "      <td>...</td>\n",
              "    </tr>\n",
              "    <tr>\n",
              "      <th>564</th>\n",
              "      <td>M</td>\n",
              "      <td>21.56</td>\n",
              "      <td>1</td>\n",
              "      <td>0.999120</td>\n",
              "      <td>M</td>\n",
              "    </tr>\n",
              "    <tr>\n",
              "      <th>565</th>\n",
              "      <td>M</td>\n",
              "      <td>20.13</td>\n",
              "      <td>1</td>\n",
              "      <td>0.996155</td>\n",
              "      <td>M</td>\n",
              "    </tr>\n",
              "    <tr>\n",
              "      <th>566</th>\n",
              "      <td>M</td>\n",
              "      <td>16.60</td>\n",
              "      <td>1</td>\n",
              "      <td>0.871071</td>\n",
              "      <td>M</td>\n",
              "    </tr>\n",
              "    <tr>\n",
              "      <th>567</th>\n",
              "      <td>M</td>\n",
              "      <td>20.60</td>\n",
              "      <td>1</td>\n",
              "      <td>0.997630</td>\n",
              "      <td>M</td>\n",
              "    </tr>\n",
              "    <tr>\n",
              "      <th>568</th>\n",
              "      <td>B</td>\n",
              "      <td>7.76</td>\n",
              "      <td>0</td>\n",
              "      <td>0.000730</td>\n",
              "      <td>B</td>\n",
              "    </tr>\n",
              "  </tbody>\n",
              "</table>\n",
              "<p>569 rows × 5 columns</p>\n",
              "</div>\n",
              "      <button class=\"colab-df-convert\" onclick=\"convertToInteractive('df-d60c5fee-3392-4279-a503-c7c1e039b73b')\"\n",
              "              title=\"Convert this dataframe to an interactive table.\"\n",
              "              style=\"display:none;\">\n",
              "        \n",
              "  <svg xmlns=\"http://www.w3.org/2000/svg\" height=\"24px\"viewBox=\"0 0 24 24\"\n",
              "       width=\"24px\">\n",
              "    <path d=\"M0 0h24v24H0V0z\" fill=\"none\"/>\n",
              "    <path d=\"M18.56 5.44l.94 2.06.94-2.06 2.06-.94-2.06-.94-.94-2.06-.94 2.06-2.06.94zm-11 1L8.5 8.5l.94-2.06 2.06-.94-2.06-.94L8.5 2.5l-.94 2.06-2.06.94zm10 10l.94 2.06.94-2.06 2.06-.94-2.06-.94-.94-2.06-.94 2.06-2.06.94z\"/><path d=\"M17.41 7.96l-1.37-1.37c-.4-.4-.92-.59-1.43-.59-.52 0-1.04.2-1.43.59L10.3 9.45l-7.72 7.72c-.78.78-.78 2.05 0 2.83L4 21.41c.39.39.9.59 1.41.59.51 0 1.02-.2 1.41-.59l7.78-7.78 2.81-2.81c.8-.78.8-2.07 0-2.86zM5.41 20L4 18.59l7.72-7.72 1.47 1.35L5.41 20z\"/>\n",
              "  </svg>\n",
              "      </button>\n",
              "      \n",
              "  <style>\n",
              "    .colab-df-container {\n",
              "      display:flex;\n",
              "      flex-wrap:wrap;\n",
              "      gap: 12px;\n",
              "    }\n",
              "\n",
              "    .colab-df-convert {\n",
              "      background-color: #E8F0FE;\n",
              "      border: none;\n",
              "      border-radius: 50%;\n",
              "      cursor: pointer;\n",
              "      display: none;\n",
              "      fill: #1967D2;\n",
              "      height: 32px;\n",
              "      padding: 0 0 0 0;\n",
              "      width: 32px;\n",
              "    }\n",
              "\n",
              "    .colab-df-convert:hover {\n",
              "      background-color: #E2EBFA;\n",
              "      box-shadow: 0px 1px 2px rgba(60, 64, 67, 0.3), 0px 1px 3px 1px rgba(60, 64, 67, 0.15);\n",
              "      fill: #174EA6;\n",
              "    }\n",
              "\n",
              "    [theme=dark] .colab-df-convert {\n",
              "      background-color: #3B4455;\n",
              "      fill: #D2E3FC;\n",
              "    }\n",
              "\n",
              "    [theme=dark] .colab-df-convert:hover {\n",
              "      background-color: #434B5C;\n",
              "      box-shadow: 0px 1px 3px 1px rgba(0, 0, 0, 0.15);\n",
              "      filter: drop-shadow(0px 1px 2px rgba(0, 0, 0, 0.3));\n",
              "      fill: #FFFFFF;\n",
              "    }\n",
              "  </style>\n",
              "\n",
              "      <script>\n",
              "        const buttonEl =\n",
              "          document.querySelector('#df-d60c5fee-3392-4279-a503-c7c1e039b73b button.colab-df-convert');\n",
              "        buttonEl.style.display =\n",
              "          google.colab.kernel.accessAllowed ? 'block' : 'none';\n",
              "\n",
              "        async function convertToInteractive(key) {\n",
              "          const element = document.querySelector('#df-d60c5fee-3392-4279-a503-c7c1e039b73b');\n",
              "          const dataTable =\n",
              "            await google.colab.kernel.invokeFunction('convertToInteractive',\n",
              "                                                     [key], {});\n",
              "          if (!dataTable) return;\n",
              "\n",
              "          const docLinkHtml = 'Like what you see? Visit the ' +\n",
              "            '<a target=\"_blank\" href=https://colab.research.google.com/notebooks/data_table.ipynb>data table notebook</a>'\n",
              "            + ' to learn more about interactive tables.';\n",
              "          element.innerHTML = '';\n",
              "          dataTable['output_type'] = 'display_data';\n",
              "          await google.colab.output.renderOutput(dataTable, element);\n",
              "          const docLink = document.createElement('div');\n",
              "          docLink.innerHTML = docLinkHtml;\n",
              "          element.appendChild(docLink);\n",
              "        }\n",
              "      </script>\n",
              "    </div>\n",
              "  </div>\n",
              "  "
            ],
            "text/plain": [
              "    diagnosis  radius_mean  isMaligno  Probabilidade Predito\n",
              "0           M        17.99          1       0.965987       M\n",
              "1           M        20.57          1       0.997556       M\n",
              "2           M        19.69          1       0.993956       M\n",
              "3           M        11.42          1       0.031047       B\n",
              "4           M        20.29          1       0.996739       M\n",
              "..        ...          ...        ...            ...     ...\n",
              "564         M        21.56          1       0.999120       M\n",
              "565         M        20.13          1       0.996155       M\n",
              "566         M        16.60          1       0.871071       M\n",
              "567         M        20.60          1       0.997630       M\n",
              "568         B         7.76          0       0.000730       B\n",
              "\n",
              "[569 rows x 5 columns]"
            ]
          },
          "execution_count": 14,
          "metadata": {},
          "output_type": "execute_result"
        }
      ],
      "source": [
        "#Adicionando coluna das probabilidades calculadas\n",
        "X_aux = df[\"radius_mean\"]\n",
        "Y_aux = 1/(1 + np.exp(-theta_list[-1][0] - theta_list[-1][1]*X_aux))\n",
        "df[\"Probabilidade\"] = Y_aux\n",
        "\n",
        "#Coluna de classificação\n",
        "#Probabilidades inferiores a 50% foram classificadas como tumores benignos \n",
        "df[\"Predito\"] = 'M'\n",
        "df.loc[df[\"Probabilidade\"] < 0.5, \"Predito\"] = \"B\"\n",
        "df"
      ]
    },
    {
      "cell_type": "code",
      "execution_count": 15,
      "metadata": {
        "colab": {
          "base_uri": "https://localhost:8080/"
        },
        "id": "GJGLDbrG0lA3",
        "outputId": "e71e8cc6-2ce6-40f6-b06d-3c43de978de7"
      },
      "outputs": [
        {
          "data": {
            "text/plain": [
              "0.8787346221441125"
            ]
          },
          "execution_count": 15,
          "metadata": {},
          "output_type": "execute_result"
        }
      ],
      "source": [
        "#Calculando precisão do modelo\n",
        "casos_corretos = df.loc[df[\"diagnosis\"] == df[\"Predito\"]]\n",
        "casos_corretos.shape[0]/df.shape[0]"
      ]
    },
    {
      "cell_type": "markdown",
      "metadata": {
        "id": "3IKrIKFp0zXc"
      },
      "source": [
        "### Método divergindo"
      ]
    },
    {
      "cell_type": "code",
      "execution_count": 16,
      "metadata": {
        "colab": {
          "base_uri": "https://localhost:8080/"
        },
        "id": "Z87Aywfz0zXd",
        "outputId": "9b2906c1-4f11-4b3a-f72a-5f0b1a68bc73"
      },
      "outputs": [
        {
          "name": "stderr",
          "output_type": "stream",
          "text": [
            "<ipython-input-7-acfb9e96a745>:7: RuntimeWarning: divide by zero encountered in log\n",
            "  J = -y.T@np.log(f_theta(theta, X)) - (1-y).T@np.log(1-f_theta(theta, X))\n",
            "<ipython-input-7-acfb9e96a745>:7: RuntimeWarning: invalid value encountered in matmul\n",
            "  J = -y.T@np.log(f_theta(theta, X)) - (1-y).T@np.log(1-f_theta(theta, X))\n"
          ]
        }
      ],
      "source": [
        "# Tamanho do passo(alpha)\n",
        "a = 2*m/np.linalg.norm(X)\n",
        "\n",
        "# Chute inicial\n",
        "theta_k = np.zeros(n)\n",
        "\n",
        "# Lista das iteracoes\n",
        "J_list = []\n",
        "theta_list = []\n",
        "\n",
        "for i in range(2*10**5):\n",
        "    J_val = J(theta_k) # Custo do theta da iteracao atual\n",
        "    J_list.append(J_val) # Guardando custo da iteracao\n",
        "\n",
        "    theta_k = theta_k - a*J_grad(theta_k) # Atualizando os parametros\n",
        "    theta_list.append(list(theta_k)) # Guardando parametro da iteracao\n",
        "\n",
        "    if(abs(J_grad(theta_k)[0]) <= 1e-15 and abs(J_grad(theta_k)[1]) <= 1e-15):\n",
        "        # Condicao de parada de primeira ordem\n",
        "        print(f\"Parou na iteracao {i+1}\")\n",
        "        break"
      ]
    },
    {
      "cell_type": "code",
      "execution_count": 17,
      "metadata": {
        "colab": {
          "base_uri": "https://localhost:8080/"
        },
        "id": "K64QOPhHY3UJ",
        "outputId": "6e6e674b-235a-4267-f4ad-ccfebaae582a"
      },
      "outputs": [
        {
          "name": "stdout",
          "output_type": "stream",
          "text": [
            "Iterações:  200000 \n",
            "Parâmetros estimados:  [-461.74598359   35.23790969] \n",
            "Valor da função de custo:  nan \n",
            "Gradiente da função de custo:  [0.16017806 2.3230175 ]\n"
          ]
        }
      ],
      "source": [
        "# Exibindo os resultados\n",
        "print('Iterações: ', i + 1, \"\\nParâmetros estimados: \", theta_k, '\\nValor da função de custo: ', J_val, '\\nGradiente da função de custo: ', J_grad(theta_k))"
      ]
    },
    {
      "cell_type": "code",
      "execution_count": 18,
      "metadata": {
        "colab": {
          "base_uri": "https://localhost:8080/",
          "height": 0
        },
        "id": "TtZT3-4aY3UK",
        "outputId": "10123efe-8d9a-49e5-bfed-07b5f5c0360b"
      },
      "outputs": [
        {
          "data": {
            "text/html": [
              "<style type=\"text/css\">\n",
              "</style>\n",
              "<table id=\"T_c6700_\" class=\"dataframe\">\n",
              "  <thead>\n",
              "    <tr>\n",
              "      <th class=\"col_heading level0 col0\" >Iterações</th>\n",
              "      <th class=\"col_heading level0 col1\" >theta_0</th>\n",
              "      <th class=\"col_heading level0 col2\" >theta_1</th>\n",
              "      <th class=\"col_heading level0 col3\" >J(theta)</th>\n",
              "      <th class=\"col_heading level0 col4\" >nablaJ(theta)</th>\n",
              "    </tr>\n",
              "  </thead>\n",
              "  <tbody>\n",
              "    <tr>\n",
              "      <td id=\"T_c6700_row0_col0\" class=\"data row0 col0\" >200000</td>\n",
              "      <td id=\"T_c6700_row0_col1\" class=\"data row0 col1\" >-461.745984</td>\n",
              "      <td id=\"T_c6700_row0_col2\" class=\"data row0 col2\" >35.237910</td>\n",
              "      <td id=\"T_c6700_row0_col3\" class=\"data row0 col3\" >nan</td>\n",
              "      <td id=\"T_c6700_row0_col4\" class=\"data row0 col4\" >[0.16017806 2.3230175 ]</td>\n",
              "    </tr>\n",
              "  </tbody>\n",
              "</table>\n"
            ],
            "text/plain": [
              "<pandas.io.formats.style.Styler at 0x7f67bbe0a700>"
            ]
          },
          "execution_count": 18,
          "metadata": {},
          "output_type": "execute_result"
        }
      ],
      "source": [
        "tabela = pd.DataFrame({'Iterações':[i + 1], 'theta_0': [theta_k[0]], 'theta_1': [theta_k[1]], 'J(theta)': [J_val], 'nablaJ(theta)': [J_grad(theta_k)]}).style.hide_index()\n",
        "tabela"
      ]
    },
    {
      "cell_type": "code",
      "execution_count": 19,
      "metadata": {
        "colab": {
          "base_uri": "https://localhost:8080/",
          "height": 0
        },
        "id": "yDhrq4R_0zXr",
        "outputId": "7a98b619-d42b-42f9-bdbf-e2871cf9eb6a"
      },
      "outputs": [
        {
          "data": {
            "image/png": "[encoded data removed]",
            "text/plain": [
              "<Figure size 640x480 with 1 Axes>"
            ]
          },
          "metadata": {},
          "output_type": "display_data"
        }
      ],
      "source": [
        "# Plotando as estimacoes dos parametros em funcao das iteracoes\n",
        "fig, ax = plt.subplots()\n",
        "\n",
        "ax.plot(theta_list)\n",
        "ax.legend([r'$\\theta_k\\_ _0$', r'$\\theta_k\\_ 1$'])\n",
        "ax.set_xlabel('Iterações')\n",
        "ax.set_ylabel('Valor numérico')\n",
        "#ax.set_ylim([-15, 3])\n",
        "ax.ticklabel_format(style='sci', axis='x', scilimits=(0,0))\n",
        "ax.set_title('Estimação dos parâmetros')\n",
        "plt.show()"
      ]
    },
    {
      "cell_type": "code",
      "execution_count": 20,
      "metadata": {
        "colab": {
          "base_uri": "https://localhost:8080/",
          "height": 0
        },
        "id": "XsZdqv530zXs",
        "outputId": "dd4ae6f5-61e5-4032-ebca-9998e3f6981f"
      },
      "outputs": [
        {
          "data": {
            "image/png": "[encoded data removed]",
            "text/plain": [
              "<Figure size 640x480 with 1 Axes>"
            ]
          },
          "metadata": {},
          "output_type": "display_data"
        }
      ],
      "source": [
        "# Plotando o comportamento da funcao de custo\n",
        "fig, ax = plt.subplots()\n",
        "\n",
        "ax.plot(J_list)\n",
        "ax.legend([r'$J({\\theta}_k)$'])\n",
        "ax.set_xlabel('Iterações')\n",
        "ax.set_ylabel('Valor numérico')\n",
        "ax.set_xlim([0, 0.25*10**3])\n",
        "ax.ticklabel_format(style='sci', axis='x', scilimits=(0,0))\n",
        "ax.set_title('Função de custo')\n",
        "plt.show()"
      ]
    },
    {
      "cell_type": "code",
      "execution_count": 21,
      "metadata": {
        "colab": {
          "base_uri": "https://localhost:8080/",
          "height": 0
        },
        "id": "pkICUf190zXs",
        "outputId": "0bccd772-a930-4571-86e0-e418f3b425a5"
      },
      "outputs": [
        {
          "data": {
            "image/png": "[encoded data removed]",
            "text/plain": [
              "<Figure size 640x480 with 1 Axes>"
            ]
          },
          "metadata": {},
          "output_type": "display_data"
        }
      ],
      "source": [
        "# Plotando o modelo estimado com os dados reais\n",
        "\n",
        "X_plot = np.linspace(-0, 30, 100)\n",
        "Y_plot = 1/(1 + np.exp(-theta_list[-1][0] - theta_list[-1][1]*X_plot))\n",
        "\n",
        "fig, ax = plt.subplots()\n",
        "ax.plot(X_plot, Y_plot, color = 'black')\n",
        "\n",
        "t = range(1, 101)\n",
        "ax.scatter(df.iloc[:, 1], df.loc[:, ['isMaligno']], s = 10, c = df.iloc[:, 1], cmap = 'plasma')\n",
        "\n",
        "ax.set_title('Modelo estimado')\n",
        "ax.set_xlabel('Valor da variável preditora(\\\"radius_mean\\\")')\n",
        "ax.set_ylabel('Probabilidade do \\ntumor ser maligno')\n",
        "ax.legend(['Modelo', 'Dados'])\n",
        "\n",
        "plt.show()"
      ]
    },
    {
      "cell_type": "code",
      "execution_count": 22,
      "metadata": {
        "colab": {
          "base_uri": "https://localhost:8080/",
          "height": 0
        },
        "id": "ildAOj4G0zXs",
        "outputId": "9204e9a8-dcc1-4254-808d-54234a078f29"
      },
      "outputs": [
        {
          "data": {
            "text/html": [
              "\n",
              "  <div id=\"df-0601f297-9e5d-4d14-80ea-28a45dfd0bfd\">\n",
              "    <div class=\"colab-df-container\">\n",
              "      <div>\n",
              "<style scoped>\n",
              "    .dataframe tbody tr th:only-of-type {\n",
              "        vertical-align: middle;\n",
              "    }\n",
              "\n",
              "    .dataframe tbody tr th {\n",
              "        vertical-align: top;\n",
              "    }\n",
              "\n",
              "    .dataframe thead th {\n",
              "        text-align: right;\n",
              "    }\n",
              "</style>\n",
              "<table border=\"1\" class=\"dataframe\">\n",
              "  <thead>\n",
              "    <tr style=\"text-align: right;\">\n",
              "      <th></th>\n",
              "      <th>diagnosis</th>\n",
              "      <th>radius_mean</th>\n",
              "      <th>isMaligno</th>\n",
              "      <th>Probabilidade</th>\n",
              "      <th>Predito</th>\n",
              "    </tr>\n",
              "  </thead>\n",
              "  <tbody>\n",
              "    <tr>\n",
              "      <th>0</th>\n",
              "      <td>M</td>\n",
              "      <td>17.99</td>\n",
              "      <td>1</td>\n",
              "      <td>1.000000e+00</td>\n",
              "      <td>M</td>\n",
              "    </tr>\n",
              "    <tr>\n",
              "      <th>1</th>\n",
              "      <td>M</td>\n",
              "      <td>20.57</td>\n",
              "      <td>1</td>\n",
              "      <td>1.000000e+00</td>\n",
              "      <td>M</td>\n",
              "    </tr>\n",
              "    <tr>\n",
              "      <th>2</th>\n",
              "      <td>M</td>\n",
              "      <td>19.69</td>\n",
              "      <td>1</td>\n",
              "      <td>1.000000e+00</td>\n",
              "      <td>M</td>\n",
              "    </tr>\n",
              "    <tr>\n",
              "      <th>3</th>\n",
              "      <td>M</td>\n",
              "      <td>11.42</td>\n",
              "      <td>1</td>\n",
              "      <td>1.712848e-26</td>\n",
              "      <td>B</td>\n",
              "    </tr>\n",
              "    <tr>\n",
              "      <th>4</th>\n",
              "      <td>M</td>\n",
              "      <td>20.29</td>\n",
              "      <td>1</td>\n",
              "      <td>1.000000e+00</td>\n",
              "      <td>M</td>\n",
              "    </tr>\n",
              "    <tr>\n",
              "      <th>...</th>\n",
              "      <td>...</td>\n",
              "      <td>...</td>\n",
              "      <td>...</td>\n",
              "      <td>...</td>\n",
              "      <td>...</td>\n",
              "    </tr>\n",
              "    <tr>\n",
              "      <th>564</th>\n",
              "      <td>M</td>\n",
              "      <td>21.56</td>\n",
              "      <td>1</td>\n",
              "      <td>1.000000e+00</td>\n",
              "      <td>M</td>\n",
              "    </tr>\n",
              "    <tr>\n",
              "      <th>565</th>\n",
              "      <td>M</td>\n",
              "      <td>20.13</td>\n",
              "      <td>1</td>\n",
              "      <td>1.000000e+00</td>\n",
              "      <td>M</td>\n",
              "    </tr>\n",
              "    <tr>\n",
              "      <th>566</th>\n",
              "      <td>M</td>\n",
              "      <td>16.60</td>\n",
              "      <td>1</td>\n",
              "      <td>1.000000e+00</td>\n",
              "      <td>M</td>\n",
              "    </tr>\n",
              "    <tr>\n",
              "      <th>567</th>\n",
              "      <td>M</td>\n",
              "      <td>20.60</td>\n",
              "      <td>1</td>\n",
              "      <td>1.000000e+00</td>\n",
              "      <td>M</td>\n",
              "    </tr>\n",
              "    <tr>\n",
              "      <th>568</th>\n",
              "      <td>B</td>\n",
              "      <td>7.76</td>\n",
              "      <td>0</td>\n",
              "      <td>1.668914e-82</td>\n",
              "      <td>B</td>\n",
              "    </tr>\n",
              "  </tbody>\n",
              "</table>\n",
              "<p>569 rows × 5 columns</p>\n",
              "</div>\n",
              "      <button class=\"colab-df-convert\" onclick=\"convertToInteractive('df-0601f297-9e5d-4d14-80ea-28a45dfd0bfd')\"\n",
              "              title=\"Convert this dataframe to an interactive table.\"\n",
              "              style=\"display:none;\">\n",
              "        \n",
              "  <svg xmlns=\"http://www.w3.org/2000/svg\" height=\"24px\"viewBox=\"0 0 24 24\"\n",
              "       width=\"24px\">\n",
              "    <path d=\"M0 0h24v24H0V0z\" fill=\"none\"/>\n",
              "    <path d=\"M18.56 5.44l.94 2.06.94-2.06 2.06-.94-2.06-.94-.94-2.06-.94 2.06-2.06.94zm-11 1L8.5 8.5l.94-2.06 2.06-.94-2.06-.94L8.5 2.5l-.94 2.06-2.06.94zm10 10l.94 2.06.94-2.06 2.06-.94-2.06-.94-.94-2.06-.94 2.06-2.06.94z\"/><path d=\"M17.41 7.96l-1.37-1.37c-.4-.4-.92-.59-1.43-.59-.52 0-1.04.2-1.43.59L10.3 9.45l-7.72 7.72c-.78.78-.78 2.05 0 2.83L4 21.41c.39.39.9.59 1.41.59.51 0 1.02-.2 1.41-.59l7.78-7.78 2.81-2.81c.8-.78.8-2.07 0-2.86zM5.41 20L4 18.59l7.72-7.72 1.47 1.35L5.41 20z\"/>\n",
              "  </svg>\n",
              "      </button>\n",
              "      \n",
              "  <style>\n",
              "    .colab-df-container {\n",
              "      display:flex;\n",
              "      flex-wrap:wrap;\n",
              "      gap: 12px;\n",
              "    }\n",
              "\n",
              "    .colab-df-convert {\n",
              "      background-color: #E8F0FE;\n",
              "      border: none;\n",
              "      border-radius: 50%;\n",
              "      cursor: pointer;\n",
              "      display: none;\n",
              "      fill: #1967D2;\n",
              "      height: 32px;\n",
              "      padding: 0 0 0 0;\n",
              "      width: 32px;\n",
              "    }\n",
              "\n",
              "    .colab-df-convert:hover {\n",
              "      background-color: #E2EBFA;\n",
              "      box-shadow: 0px 1px 2px rgba(60, 64, 67, 0.3), 0px 1px 3px 1px rgba(60, 64, 67, 0.15);\n",
              "      fill: #174EA6;\n",
              "    }\n",
              "\n",
              "    [theme=dark] .colab-df-convert {\n",
              "      background-color: #3B4455;\n",
              "      fill: #D2E3FC;\n",
              "    }\n",
              "\n",
              "    [theme=dark] .colab-df-convert:hover {\n",
              "      background-color: #434B5C;\n",
              "      box-shadow: 0px 1px 3px 1px rgba(0, 0, 0, 0.15);\n",
              "      filter: drop-shadow(0px 1px 2px rgba(0, 0, 0, 0.3));\n",
              "      fill: #FFFFFF;\n",
              "    }\n",
              "  </style>\n",
              "\n",
              "      <script>\n",
              "        const buttonEl =\n",
              "          document.querySelector('#df-0601f297-9e5d-4d14-80ea-28a45dfd0bfd button.colab-df-convert');\n",
              "        buttonEl.style.display =\n",
              "          google.colab.kernel.accessAllowed ? 'block' : 'none';\n",
              "\n",
              "        async function convertToInteractive(key) {\n",
              "          const element = document.querySelector('#df-0601f297-9e5d-4d14-80ea-28a45dfd0bfd');\n",
              "          const dataTable =\n",
              "            await google.colab.kernel.invokeFunction('convertToInteractive',\n",
              "                                                     [key], {});\n",
              "          if (!dataTable) return;\n",
              "\n",
              "          const docLinkHtml = 'Like what you see? Visit the ' +\n",
              "            '<a target=\"_blank\" href=https://colab.research.google.com/notebooks/data_table.ipynb>data table notebook</a>'\n",
              "            + ' to learn more about interactive tables.';\n",
              "          element.innerHTML = '';\n",
              "          dataTable['output_type'] = 'display_data';\n",
              "          await google.colab.output.renderOutput(dataTable, element);\n",
              "          const docLink = document.createElement('div');\n",
              "          docLink.innerHTML = docLinkHtml;\n",
              "          element.appendChild(docLink);\n",
              "        }\n",
              "      </script>\n",
              "    </div>\n",
              "  </div>\n",
              "  "
            ],
            "text/plain": [
              "    diagnosis  radius_mean  isMaligno  Probabilidade Predito\n",
              "0           M        17.99          1   1.000000e+00       M\n",
              "1           M        20.57          1   1.000000e+00       M\n",
              "2           M        19.69          1   1.000000e+00       M\n",
              "3           M        11.42          1   1.712848e-26       B\n",
              "4           M        20.29          1   1.000000e+00       M\n",
              "..        ...          ...        ...            ...     ...\n",
              "564         M        21.56          1   1.000000e+00       M\n",
              "565         M        20.13          1   1.000000e+00       M\n",
              "566         M        16.60          1   1.000000e+00       M\n",
              "567         M        20.60          1   1.000000e+00       M\n",
              "568         B         7.76          0   1.668914e-82       B\n",
              "\n",
              "[569 rows x 5 columns]"
            ]
          },
          "execution_count": 22,
          "metadata": {},
          "output_type": "execute_result"
        }
      ],
      "source": [
        "#Adicionando coluna das probabilidades calculadas\n",
        "X_aux = df[\"radius_mean\"]\n",
        "Y_aux = 1/(1 + np.exp(-theta_list[-1][0] - theta_list[-1][1]*X_aux))\n",
        "df[\"Probabilidade\"] = Y_aux\n",
        "\n",
        "#Coluna de classificação\n",
        "#Probabilidades inferiores a 50% foram classificadas como tumores benignos \n",
        "df[\"Predito\"] = 'M'\n",
        "df.loc[df[\"Probabilidade\"] < 0.5, \"Predito\"] = \"B\"\n",
        "df"
      ]
    },
    {
      "cell_type": "code",
      "execution_count": 23,
      "metadata": {
        "colab": {
          "base_uri": "https://localhost:8080/"
        },
        "id": "eJliYkfb0zXu",
        "outputId": "e6093e77-0651-4762-af54-40832eab37bd"
      },
      "outputs": [
        {
          "data": {
            "text/plain": [
              "0.7926186291739895"
            ]
          },
          "execution_count": 23,
          "metadata": {},
          "output_type": "execute_result"
        }
      ],
      "source": [
        "#Calculando precisão do modelo\n",
        "casos_corretos = df.loc[df[\"diagnosis\"] == df[\"Predito\"]]\n",
        "casos_corretos.shape[0]/df.shape[0]"
      ]
    },
    {
      "cell_type": "markdown",
      "metadata": {
        "id": "uy0GcVN_k2xr"
      },
      "source": [
        "## Método de Newton"
      ]
    },
    {
      "cell_type": "code",
      "execution_count": 24,
      "metadata": {
        "id": "QMovl8gJp_AG"
      },
      "outputs": [],
      "source": [
        "# Hessiana da funcao de custo\n",
        "def J_hessian(theta, X=X, y=y, m=m):\n",
        "    hess = (1/m)*X.T @ np.diag(f_theta(theta) * (1-f_theta(theta))) @ X \n",
        "    return hess\n",
        "\n",
        "# Diracao do passo\n",
        "def pk(theta, X=X, y=y, m=m):\n",
        "    hessiana = J_hessian(theta)\n",
        "    mult = np.linalg.solve(hessiana, -J_grad(theta))\n",
        "    return mult"
      ]
    },
    {
      "cell_type": "code",
      "execution_count": 25,
      "metadata": {
        "colab": {
          "base_uri": "https://localhost:8080/"
        },
        "id": "YS2r55o3R4r9",
        "outputId": "103c1b57-5b76-4cb9-dcb6-3e210206cab1"
      },
      "outputs": [
        {
          "name": "stdout",
          "output_type": "stream",
          "text": [
            "Parou na iteracao 8\n"
          ]
        }
      ],
      "source": [
        "# Tamanho do passo(alpha)\n",
        "a = 1\n",
        "\n",
        "# Chute inicial\n",
        "theta_k = np.zeros(n)\n",
        "\n",
        "# Lista das iteracoes\n",
        "J_list = []\n",
        "theta_list = []\n",
        "\n",
        "for i in range(100):\n",
        "    J_val = J(theta_k) # Custo do theta da iteracao atual\n",
        "    J_list.append(J_val) # Guardando custo da iteracao\n",
        "    \n",
        "    theta_k = theta_k + a*pk(theta_k) # Atualizando os parametros\n",
        "    theta_list.append(list(theta_k)) # Guardando parametro da iteracao\n",
        "    \n",
        "    if(abs(J_grad(theta_k)[0]) <= 1e-15 and abs(J_grad(theta_k)[1]) <= 1e-15):\n",
        "        # Condicao de parada de primeira ordem\n",
        "        print(f\"Parou na iteracao {i+1}\")\n",
        "        break"
      ]
    },
    {
      "cell_type": "code",
      "execution_count": 26,
      "metadata": {
        "colab": {
          "base_uri": "https://localhost:8080/"
        },
        "id": "e2YofxN6Y8NH",
        "outputId": "152f57af-6818-4ef6-dd5d-7da5deb80d44"
      },
      "outputs": [
        {
          "name": "stdout",
          "output_type": "stream",
          "text": [
            "Iterações:  8 \n",
            "Parâmetros estimados:  [-15.24587078   1.03358882] \n",
            "Valor da função de custo:  0.28999195429487246 \n",
            "Gradiente da função de custo:  [-6.17006309e-17 -8.43371335e-16]\n"
          ]
        }
      ],
      "source": [
        "# Exibindo os resultados\n",
        "print('Iterações: ', i + 1, \"\\nParâmetros estimados: \", theta_k, '\\nValor da função de custo: ', J_val, '\\nGradiente da função de custo: ', J_grad(theta_k))"
      ]
    },
    {
      "cell_type": "code",
      "execution_count": 27,
      "metadata": {
        "colab": {
          "base_uri": "https://localhost:8080/",
          "height": 81
        },
        "id": "HK7HMoTTY8NI",
        "outputId": "2f7378e9-4c60-4574-eb25-6170df0f443f"
      },
      "outputs": [
        {
          "data": {
            "text/html": [
              "<style type=\"text/css\">\n",
              "</style>\n",
              "<table id=\"T_7502f_\" class=\"dataframe\">\n",
              "  <thead>\n",
              "    <tr>\n",
              "      <th class=\"col_heading level0 col0\" >Iterações</th>\n",
              "      <th class=\"col_heading level0 col1\" >theta_0</th>\n",
              "      <th class=\"col_heading level0 col2\" >theta_1</th>\n",
              "      <th class=\"col_heading level0 col3\" >J(theta)</th>\n",
              "      <th class=\"col_heading level0 col4\" >nablaJ(theta)</th>\n",
              "    </tr>\n",
              "  </thead>\n",
              "  <tbody>\n",
              "    <tr>\n",
              "      <td id=\"T_7502f_row0_col0\" class=\"data row0 col0\" >8</td>\n",
              "      <td id=\"T_7502f_row0_col1\" class=\"data row0 col1\" >-15.245871</td>\n",
              "      <td id=\"T_7502f_row0_col2\" class=\"data row0 col2\" >1.033589</td>\n",
              "      <td id=\"T_7502f_row0_col3\" class=\"data row0 col3\" >0.289992</td>\n",
              "      <td id=\"T_7502f_row0_col4\" class=\"data row0 col4\" >[-6.17006309e-17 -8.43371335e-16]</td>\n",
              "    </tr>\n",
              "  </tbody>\n",
              "</table>\n"
            ],
            "text/plain": [
              "<pandas.io.formats.style.Styler at 0x7f67bbd5d760>"
            ]
          },
          "execution_count": 27,
          "metadata": {},
          "output_type": "execute_result"
        }
      ],
      "source": [
        "tabela = pd.DataFrame({'Iterações':[i + 1], 'theta_0': [theta_k[0]], 'theta_1': [theta_k[1]], 'J(theta)': [J_val], 'nablaJ(theta)': [J_grad(theta_k)]}).style.hide_index()\n",
        "tabela"
      ]
    },
    {
      "cell_type": "code",
      "execution_count": 28,
      "metadata": {
        "colab": {
          "base_uri": "https://localhost:8080/",
          "height": 472
        },
        "id": "9pjJSERW6dMB",
        "outputId": "61b5b0f3-823f-4961-ec19-a59f87b9969a"
      },
      "outputs": [
        {
          "data": {
            "image/png": "[encoded data removed]",
            "text/plain": [
              "<Figure size 640x480 with 1 Axes>"
            ]
          },
          "metadata": {},
          "output_type": "display_data"
        }
      ],
      "source": [
        "# Plotando as estimacoes dos parametros em funcao das iteracoes\n",
        "fig, ax = plt.subplots()\n",
        "\n",
        "ax.plot(theta_list)\n",
        "ax.legend([r'$\\theta_k\\_ _0$', r'$\\theta_k\\_ 1$'])\n",
        "ax.set_xlabel('Iterações')\n",
        "ax.set_ylabel('Valor numérico')\n",
        "ax.set_ylim([-16, 3])\n",
        "ax.ticklabel_format(style='sci', axis='x', scilimits=(0,0))\n",
        "ax.set_title('Estimação dos parâmetros')\n",
        "plt.show()"
      ]
    },
    {
      "cell_type": "code",
      "execution_count": 29,
      "metadata": {
        "colab": {
          "base_uri": "https://localhost:8080/",
          "height": 472
        },
        "id": "sRgexYC96dMB",
        "outputId": "1c76b2d1-0cc3-46aa-be70-3164a66baf74"
      },
      "outputs": [
        {
          "data": {
            "image/png": "[encoded data removed]",
            "text/plain": [
              "<Figure size 640x480 with 1 Axes>"
            ]
          },
          "metadata": {},
          "output_type": "display_data"
        }
      ],
      "source": [
        "# Plotando o comportamento da funcao de custo\n",
        "fig, ax = plt.subplots()\n",
        "\n",
        "ax.plot(J_list)\n",
        "ax.legend([r'$J({\\theta}_k)$'])\n",
        "ax.set_xlabel('Iterações')\n",
        "ax.set_ylabel('Valor numérico')\n",
        "ax.ticklabel_format(style='sci', axis='x', scilimits=(0,0))\n",
        "ax.set_title('Função de custo')\n",
        "plt.show()"
      ]
    },
    {
      "cell_type": "code",
      "execution_count": 30,
      "metadata": {
        "colab": {
          "base_uri": "https://localhost:8080/",
          "height": 472
        },
        "id": "VhLscs4E6dMC",
        "outputId": "cecc8e36-e66a-41ce-ec9e-11253a8d9c93"
      },
      "outputs": [
        {
          "data": {
            "image/png": "[encoded data removed]",
            "text/plain": [
              "<Figure size 640x480 with 1 Axes>"
            ]
          },
          "metadata": {},
          "output_type": "display_data"
        }
      ],
      "source": [
        "# Plotando o modelo estimado com os dados reais\n",
        "\n",
        "X_plot = np.linspace(-0, 30, 100)\n",
        "Y_plot = 1/(1 + np.exp(-theta_list[-1][0] - theta_list[-1][1]*X_plot))\n",
        "\n",
        "fig, ax = plt.subplots()\n",
        "ax.plot(X_plot, Y_plot, color = 'black')\n",
        "\n",
        "t = range(1, 101)\n",
        "ax.scatter(df.iloc[:, 1], df.loc[:, ['isMaligno']], s = 10, c = df.iloc[:, 1], cmap = 'plasma')\n",
        "\n",
        "ax.set_title('Modelo estimado')\n",
        "ax.set_xlabel('Valor da variável preditora(\\\"radius_mean\\\")')\n",
        "ax.set_ylabel('Probabilidade do \\ntumor ser maligno')\n",
        "ax.legend(['Modelo', 'Dados'])\n",
        "\n",
        "plt.show()"
      ]
    },
    {
      "cell_type": "code",
      "execution_count": 31,
      "metadata": {
        "colab": {
          "base_uri": "https://localhost:8080/",
          "height": 423
        },
        "id": "QxWeQDl96dMC",
        "outputId": "d832c749-5bdf-46de-cfe6-ee3d4a607002"
      },
      "outputs": [
        {
          "data": {
            "text/html": [
              "\n",
              "  <div id=\"df-c07e18b4-ecc9-4ce5-b204-95cf5ca227d9\">\n",
              "    <div class=\"colab-df-container\">\n",
              "      <div>\n",
              "<style scoped>\n",
              "    .dataframe tbody tr th:only-of-type {\n",
              "        vertical-align: middle;\n",
              "    }\n",
              "\n",
              "    .dataframe tbody tr th {\n",
              "        vertical-align: top;\n",
              "    }\n",
              "\n",
              "    .dataframe thead th {\n",
              "        text-align: right;\n",
              "    }\n",
              "</style>\n",
              "<table border=\"1\" class=\"dataframe\">\n",
              "  <thead>\n",
              "    <tr style=\"text-align: right;\">\n",
              "      <th></th>\n",
              "      <th>diagnosis</th>\n",
              "      <th>radius_mean</th>\n",
              "      <th>isMaligno</th>\n",
              "      <th>Probabilidade</th>\n",
              "      <th>Predito</th>\n",
              "    </tr>\n",
              "  </thead>\n",
              "  <tbody>\n",
              "    <tr>\n",
              "      <th>0</th>\n",
              "      <td>M</td>\n",
              "      <td>17.99</td>\n",
              "      <td>1</td>\n",
              "      <td>0.966052</td>\n",
              "      <td>M</td>\n",
              "    </tr>\n",
              "    <tr>\n",
              "      <th>1</th>\n",
              "      <td>M</td>\n",
              "      <td>20.57</td>\n",
              "      <td>1</td>\n",
              "      <td>0.997564</td>\n",
              "      <td>M</td>\n",
              "    </tr>\n",
              "    <tr>\n",
              "      <th>2</th>\n",
              "      <td>M</td>\n",
              "      <td>19.69</td>\n",
              "      <td>1</td>\n",
              "      <td>0.993973</td>\n",
              "      <td>M</td>\n",
              "    </tr>\n",
              "    <tr>\n",
              "      <th>3</th>\n",
              "      <td>M</td>\n",
              "      <td>11.42</td>\n",
              "      <td>1</td>\n",
              "      <td>0.031000</td>\n",
              "      <td>B</td>\n",
              "    </tr>\n",
              "    <tr>\n",
              "      <th>4</th>\n",
              "      <td>M</td>\n",
              "      <td>20.29</td>\n",
              "      <td>1</td>\n",
              "      <td>0.996749</td>\n",
              "      <td>M</td>\n",
              "    </tr>\n",
              "    <tr>\n",
              "      <th>...</th>\n",
              "      <td>...</td>\n",
              "      <td>...</td>\n",
              "      <td>...</td>\n",
              "      <td>...</td>\n",
              "      <td>...</td>\n",
              "    </tr>\n",
              "    <tr>\n",
              "      <th>564</th>\n",
              "      <td>M</td>\n",
              "      <td>21.56</td>\n",
              "      <td>1</td>\n",
              "      <td>0.999123</td>\n",
              "      <td>M</td>\n",
              "    </tr>\n",
              "    <tr>\n",
              "      <th>565</th>\n",
              "      <td>M</td>\n",
              "      <td>20.13</td>\n",
              "      <td>1</td>\n",
              "      <td>0.996167</td>\n",
              "      <td>M</td>\n",
              "    </tr>\n",
              "    <tr>\n",
              "      <th>566</th>\n",
              "      <td>M</td>\n",
              "      <td>16.60</td>\n",
              "      <td>1</td>\n",
              "      <td>0.871210</td>\n",
              "      <td>M</td>\n",
              "    </tr>\n",
              "    <tr>\n",
              "      <th>567</th>\n",
              "      <td>M</td>\n",
              "      <td>20.60</td>\n",
              "      <td>1</td>\n",
              "      <td>0.997638</td>\n",
              "      <td>M</td>\n",
              "    </tr>\n",
              "    <tr>\n",
              "      <th>568</th>\n",
              "      <td>B</td>\n",
              "      <td>7.76</td>\n",
              "      <td>0</td>\n",
              "      <td>0.000727</td>\n",
              "      <td>B</td>\n",
              "    </tr>\n",
              "  </tbody>\n",
              "</table>\n",
              "<p>569 rows × 5 columns</p>\n",
              "</div>\n",
              "      <button class=\"colab-df-convert\" onclick=\"convertToInteractive('df-c07e18b4-ecc9-4ce5-b204-95cf5ca227d9')\"\n",
              "              title=\"Convert this dataframe to an interactive table.\"\n",
              "              style=\"display:none;\">\n",
              "        \n",
              "  <svg xmlns=\"http://www.w3.org/2000/svg\" height=\"24px\"viewBox=\"0 0 24 24\"\n",
              "       width=\"24px\">\n",
              "    <path d=\"M0 0h24v24H0V0z\" fill=\"none\"/>\n",
              "    <path d=\"M18.56 5.44l.94 2.06.94-2.06 2.06-.94-2.06-.94-.94-2.06-.94 2.06-2.06.94zm-11 1L8.5 8.5l.94-2.06 2.06-.94-2.06-.94L8.5 2.5l-.94 2.06-2.06.94zm10 10l.94 2.06.94-2.06 2.06-.94-2.06-.94-.94-2.06-.94 2.06-2.06.94z\"/><path d=\"M17.41 7.96l-1.37-1.37c-.4-.4-.92-.59-1.43-.59-.52 0-1.04.2-1.43.59L10.3 9.45l-7.72 7.72c-.78.78-.78 2.05 0 2.83L4 21.41c.39.39.9.59 1.41.59.51 0 1.02-.2 1.41-.59l7.78-7.78 2.81-2.81c.8-.78.8-2.07 0-2.86zM5.41 20L4 18.59l7.72-7.72 1.47 1.35L5.41 20z\"/>\n",
              "  </svg>\n",
              "      </button>\n",
              "      \n",
              "  <style>\n",
              "    .colab-df-container {\n",
              "      display:flex;\n",
              "      flex-wrap:wrap;\n",
              "      gap: 12px;\n",
              "    }\n",
              "\n",
              "    .colab-df-convert {\n",
              "      background-color: #E8F0FE;\n",
              "      border: none;\n",
              "      border-radius: 50%;\n",
              "      cursor: pointer;\n",
              "      display: none;\n",
              "      fill: #1967D2;\n",
              "      height: 32px;\n",
              "      padding: 0 0 0 0;\n",
              "      width: 32px;\n",
              "    }\n",
              "\n",
              "    .colab-df-convert:hover {\n",
              "      background-color: #E2EBFA;\n",
              "      box-shadow: 0px 1px 2px rgba(60, 64, 67, 0.3), 0px 1px 3px 1px rgba(60, 64, 67, 0.15);\n",
              "      fill: #174EA6;\n",
              "    }\n",
              "\n",
              "    [theme=dark] .colab-df-convert {\n",
              "      background-color: #3B4455;\n",
              "      fill: #D2E3FC;\n",
              "    }\n",
              "\n",
              "    [theme=dark] .colab-df-convert:hover {\n",
              "      background-color: #434B5C;\n",
              "      box-shadow: 0px 1px 3px 1px rgba(0, 0, 0, 0.15);\n",
              "      filter: drop-shadow(0px 1px 2px rgba(0, 0, 0, 0.3));\n",
              "      fill: #FFFFFF;\n",
              "    }\n",
              "  </style>\n",
              "\n",
              "      <script>\n",
              "        const buttonEl =\n",
              "          document.querySelector('#df-c07e18b4-ecc9-4ce5-b204-95cf5ca227d9 button.colab-df-convert');\n",
              "        buttonEl.style.display =\n",
              "          google.colab.kernel.accessAllowed ? 'block' : 'none';\n",
              "\n",
              "        async function convertToInteractive(key) {\n",
              "          const element = document.querySelector('#df-c07e18b4-ecc9-4ce5-b204-95cf5ca227d9');\n",
              "          const dataTable =\n",
              "            await google.colab.kernel.invokeFunction('convertToInteractive',\n",
              "                                                     [key], {});\n",
              "          if (!dataTable) return;\n",
              "\n",
              "          const docLinkHtml = 'Like what you see? Visit the ' +\n",
              "            '<a target=\"_blank\" href=https://colab.research.google.com/notebooks/data_table.ipynb>data table notebook</a>'\n",
              "            + ' to learn more about interactive tables.';\n",
              "          element.innerHTML = '';\n",
              "          dataTable['output_type'] = 'display_data';\n",
              "          await google.colab.output.renderOutput(dataTable, element);\n",
              "          const docLink = document.createElement('div');\n",
              "          docLink.innerHTML = docLinkHtml;\n",
              "          element.appendChild(docLink);\n",
              "        }\n",
              "      </script>\n",
              "    </div>\n",
              "  </div>\n",
              "  "
            ],
            "text/plain": [
              "    diagnosis  radius_mean  isMaligno  Probabilidade Predito\n",
              "0           M        17.99          1       0.966052       M\n",
              "1           M        20.57          1       0.997564       M\n",
              "2           M        19.69          1       0.993973       M\n",
              "3           M        11.42          1       0.031000       B\n",
              "4           M        20.29          1       0.996749       M\n",
              "..        ...          ...        ...            ...     ...\n",
              "564         M        21.56          1       0.999123       M\n",
              "565         M        20.13          1       0.996167       M\n",
              "566         M        16.60          1       0.871210       M\n",
              "567         M        20.60          1       0.997638       M\n",
              "568         B         7.76          0       0.000727       B\n",
              "\n",
              "[569 rows x 5 columns]"
            ]
          },
          "execution_count": 31,
          "metadata": {},
          "output_type": "execute_result"
        }
      ],
      "source": [
        "#Adicionando coluna das probabilidades calculadas\n",
        "X_aux = df[\"radius_mean\"]\n",
        "Y_aux = 1/(1 + np.exp(-theta_list[-1][0] - theta_list[-1][1]*X_aux))\n",
        "df[\"Probabilidade\"] = Y_aux\n",
        "\n",
        "#Coluna de classificação\n",
        "#Probabilidades inferiores a 50% foram classificadas como tumores benignos \n",
        "df[\"Predito\"] = 'M'\n",
        "df.loc[df[\"Probabilidade\"] < 0.5, \"Predito\"] = \"B\"\n",
        "df"
      ]
    },
    {
      "cell_type": "code",
      "execution_count": 32,
      "metadata": {
        "colab": {
          "base_uri": "https://localhost:8080/"
        },
        "id": "PWsUe-gK6dMC",
        "outputId": "b1ec01dc-1081-48ef-be3e-1276bed0a264"
      },
      "outputs": [
        {
          "data": {
            "text/plain": [
              "0.8787346221441125"
            ]
          },
          "execution_count": 32,
          "metadata": {},
          "output_type": "execute_result"
        }
      ],
      "source": [
        "#Calculando precisão do modelo\n",
        "casos_corretos = df.loc[df[\"diagnosis\"] == df[\"Predito\"]]\n",
        "casos_corretos.shape[0]/df.shape[0]"
      ]
    }
  ],
  "metadata": {
    "colab": {
      "collapsed_sections": [
        "TWGgeGppi_2F",
        "qxyD4HRdhlyd",
        "bma5qTHrQ0rT",
        "lNkk7KGti5aL",
        "yil2Esd1YiVQ",
        "EndDbot02Oh6",
        "o-KQaXSEApIX",
        "vIJyOgNm0KxF",
        "3IKrIKFp0zXc",
        "uy0GcVN_k2xr"
      ],
      "provenance": []
    },
    "kernelspec": {
      "display_name": "Python 3",
      "name": "python3"
    },
    "language_info": {
      "name": "python"
    }
  },
  "nbformat": 4,
  "nbformat_minor": 0
}
